{
 "cells": [
  {
   "cell_type": "markdown",
   "metadata": {},
   "source": [
    "<!--BOOK_INFORMATION-->\n",
    "<img align=\"left\" style=\"padding-right:10px;\" src=\"figures/PDSH-cover-small.png\">\n",
    "*This notebook contains an excerpt from the [Python Data Science Handbook](http://shop.oreilly.com/product/0636920034919.do) by Jake VanderPlas; the content is available [on GitHub](https://github.com/jakevdp/PythonDataScienceHandbook).*\n",
    "\n",
    "*The text is released under the [CC-BY-NC-ND license](https://creativecommons.org/licenses/by-nc-nd/3.0/us/legalcode), and code is released under the [MIT license](https://opensource.org/licenses/MIT). If you find this content useful, please consider supporting the work by [buying the book](http://shop.oreilly.com/product/0636920034919.do)!*"
   ]
  },
  {
   "cell_type": "markdown",
   "metadata": {},
   "source": [
    "<!--NAVIGATION-->\n",
    "< [Handling Missing Data](03.04-Missing-Values.ipynb) | [Contents](Index.ipynb) | [Combining Datasets: Concat and Append](03.06-Concat-And-Append.ipynb) >"
   ]
  },
  {
   "cell_type": "markdown",
   "metadata": {},
   "source": [
    "# Hierarchical Indexing"
   ]
  },
  {
   "cell_type": "markdown",
   "metadata": {},
   "source": [
    "Up to this point we've been focused primarily on one-dimensional and two-dimensional data, stored in Pandas ``Series`` and ``DataFrame`` objects, respectively.\n",
    "Often it is useful to go beyond this and store higher-dimensional data–that is, data indexed by more than one or two keys.\n",
    "While Pandas does provide ``Panel`` and ``Panel4D`` objects that natively handle three-dimensional and four-dimensional data (see [Aside: Panel Data](#Aside:-Panel-Data)), a far more common pattern in practice is to make use of *hierarchical indexing* (also known as *multi-indexing*) to incorporate multiple index *levels* within a single index.\n",
    "In this way, higher-dimensional data can be compactly represented within the familiar one-dimensional ``Series`` and two-dimensional ``DataFrame`` objects.\n",
    "\n",
    "In this section, we'll explore the direct creation of ``MultiIndex`` objects, considerations when indexing, slicing, and computing statistics across multiply indexed data, and useful routines for converting between simple and hierarchically indexed representations of your data.\n",
    "\n",
    "We begin with the standard imports:"
   ]
  },
  {
   "cell_type": "code",
   "execution_count": 1,
   "metadata": {},
   "outputs": [],
   "source": [
    "import pandas as pd\n",
    "import numpy as np"
   ]
  },
  {
   "cell_type": "markdown",
   "metadata": {},
   "source": [
    "## A Multiply Indexed Series\n",
    "\n",
    "Let's start by considering how we might represent two-dimensional data within a one-dimensional ``Series``.\n",
    "For concreteness, we will consider a series of data where each point has a character and numerical key."
   ]
  },
  {
   "cell_type": "markdown",
   "metadata": {},
   "source": [
    "### The bad way\n",
    "\n",
    "Suppose you would like to track data about states from two different years.\n",
    "Using the Pandas tools we've already covered, you might be tempted to simply use Python tuples as keys:"
   ]
  },
  {
   "cell_type": "code",
   "execution_count": 2,
   "metadata": {},
   "outputs": [
    {
     "data": {
      "text/plain": [
       "(California, 2000)    33871648\n",
       "(California, 2010)    37253956\n",
       "(New York, 2000)      18976457\n",
       "(New York, 2010)      19378102\n",
       "(Texas, 2000)         20851820\n",
       "(Texas, 2010)         25145561\n",
       "dtype: int64"
      ]
     },
     "execution_count": 2,
     "metadata": {},
     "output_type": "execute_result"
    }
   ],
   "source": [
    "index = [('California', 2000), ('California', 2010),\n",
    "         ('New York', 2000), ('New York', 2010),\n",
    "         ('Texas', 2000), ('Texas', 2010)]\n",
    "populations = [33871648, 37253956,\n",
    "               18976457, 19378102,\n",
    "               20851820, 25145561]\n",
    "pop = pd.Series(populations, index=index)\n",
    "pop"
   ]
  },
  {
   "cell_type": "markdown",
   "metadata": {},
   "source": [
    "With this indexing scheme, you can straightforwardly index or slice the series based on this multiple index:"
   ]
  },
  {
   "cell_type": "code",
   "execution_count": 3,
   "metadata": {},
   "outputs": [
    {
     "data": {
      "text/plain": [
       "(California, 2010)    37253956\n",
       "(New York, 2000)      18976457\n",
       "(New York, 2010)      19378102\n",
       "(Texas, 2000)         20851820\n",
       "dtype: int64"
      ]
     },
     "execution_count": 3,
     "metadata": {},
     "output_type": "execute_result"
    }
   ],
   "source": [
    "pop[('California', 2010):('Texas', 2000)]"
   ]
  },
  {
   "cell_type": "markdown",
   "metadata": {},
   "source": [
    "But the convenience ends there. For example, if you need to select all values from 2010, you'll need to do some messy (and potentially slow) munging to make it happen:"
   ]
  },
  {
   "cell_type": "code",
   "execution_count": 4,
   "metadata": {},
   "outputs": [
    {
     "data": {
      "text/plain": [
       "(California, 2010)    37253956\n",
       "(New York, 2010)      19378102\n",
       "(Texas, 2010)         25145561\n",
       "dtype: int64"
      ]
     },
     "execution_count": 4,
     "metadata": {},
     "output_type": "execute_result"
    }
   ],
   "source": [
    "pop[[i for i in pop.index if i[1] == 2010]]"
   ]
  },
  {
   "cell_type": "markdown",
   "metadata": {},
   "source": [
    "This produces the desired result, but is not as clean (or as efficient for large datasets) as the slicing syntax we've grown to love in Pandas."
   ]
  },
  {
   "cell_type": "markdown",
   "metadata": {},
   "source": [
    "### The Better Way: Pandas MultiIndex\n",
    "Fortunately, Pandas provides a better way.\n",
    "Our tuple-based indexing is essentially a rudimentary multi-index, and the Pandas ``MultiIndex`` type gives us the type of operations we wish to have.\n",
    "We can create a multi-index from the tuples as follows:"
   ]
  },
  {
   "cell_type": "code",
   "execution_count": 5,
   "metadata": {},
   "outputs": [
    {
     "data": {
      "text/plain": [
       "MultiIndex([('California', 2000),\n",
       "            ('California', 2010),\n",
       "            (  'New York', 2000),\n",
       "            (  'New York', 2010),\n",
       "            (     'Texas', 2000),\n",
       "            (     'Texas', 2010)],\n",
       "           )"
      ]
     },
     "execution_count": 5,
     "metadata": {},
     "output_type": "execute_result"
    }
   ],
   "source": [
    "index = pd.MultiIndex.from_tuples(index)\n",
    "index"
   ]
  },
  {
   "cell_type": "markdown",
   "metadata": {},
   "source": [
    "Notice that the ``MultiIndex`` contains multiple *levels* of indexing–in this case, the state names and the years, as well as multiple *labels* for each data point which encode these levels.\n",
    "\n",
    "If we re-index our series with this ``MultiIndex``, we see the hierarchical representation of the data:"
   ]
  },
  {
   "cell_type": "code",
   "execution_count": 6,
   "metadata": {},
   "outputs": [
    {
     "data": {
      "text/plain": [
       "California  2000    33871648\n",
       "            2010    37253956\n",
       "New York    2000    18976457\n",
       "            2010    19378102\n",
       "Texas       2000    20851820\n",
       "            2010    25145561\n",
       "dtype: int64"
      ]
     },
     "execution_count": 6,
     "metadata": {},
     "output_type": "execute_result"
    }
   ],
   "source": [
    "pop = pop.reindex(index)\n",
    "pop"
   ]
  },
  {
   "cell_type": "markdown",
   "metadata": {},
   "source": [
    "Here the first two columns of the ``Series`` representation show the multiple index values, while the third column shows the data.\n",
    "Notice that some entries are missing in the first column: in this multi-index representation, any blank entry indicates the same value as the line above it."
   ]
  },
  {
   "cell_type": "markdown",
   "metadata": {},
   "source": [
    "Now to access all data for which the second index is 2010, we can simply use the Pandas slicing notation:"
   ]
  },
  {
   "cell_type": "code",
   "execution_count": 7,
   "metadata": {},
   "outputs": [
    {
     "data": {
      "text/plain": [
       "California    37253956\n",
       "New York      19378102\n",
       "Texas         25145561\n",
       "dtype: int64"
      ]
     },
     "execution_count": 7,
     "metadata": {},
     "output_type": "execute_result"
    }
   ],
   "source": [
    "pop[:, 2010]"
   ]
  },
  {
   "cell_type": "markdown",
   "metadata": {},
   "source": [
    "The result is a singly indexed array with just the keys we're interested in.\n",
    "This syntax is much more convenient (and the operation is much more efficient!) than the home-spun tuple-based multi-indexing solution that we started with.\n",
    "We'll now further discuss this sort of indexing operation on hieararchically indexed data."
   ]
  },
  {
   "cell_type": "markdown",
   "metadata": {},
   "source": [
    "### MultiIndex as extra dimension\n",
    "\n",
    "You might notice something else here: we could easily have stored the same data using a simple ``DataFrame`` with index and column labels.\n",
    "In fact, Pandas is built with this equivalence in mind. The ``unstack()`` method will quickly convert a multiply indexed ``Series`` into a conventionally indexed ``DataFrame``:"
   ]
  },
  {
   "cell_type": "code",
   "execution_count": 8,
   "metadata": {},
   "outputs": [
    {
     "data": {
      "text/html": [
       "<div>\n",
       "<style scoped>\n",
       "    .dataframe tbody tr th:only-of-type {\n",
       "        vertical-align: middle;\n",
       "    }\n",
       "\n",
       "    .dataframe tbody tr th {\n",
       "        vertical-align: top;\n",
       "    }\n",
       "\n",
       "    .dataframe thead th {\n",
       "        text-align: right;\n",
       "    }\n",
       "</style>\n",
       "<table border=\"1\" class=\"dataframe\">\n",
       "  <thead>\n",
       "    <tr style=\"text-align: right;\">\n",
       "      <th></th>\n",
       "      <th>2000</th>\n",
       "      <th>2010</th>\n",
       "    </tr>\n",
       "  </thead>\n",
       "  <tbody>\n",
       "    <tr>\n",
       "      <th>California</th>\n",
       "      <td>33871648</td>\n",
       "      <td>37253956</td>\n",
       "    </tr>\n",
       "    <tr>\n",
       "      <th>New York</th>\n",
       "      <td>18976457</td>\n",
       "      <td>19378102</td>\n",
       "    </tr>\n",
       "    <tr>\n",
       "      <th>Texas</th>\n",
       "      <td>20851820</td>\n",
       "      <td>25145561</td>\n",
       "    </tr>\n",
       "  </tbody>\n",
       "</table>\n",
       "</div>"
      ],
      "text/plain": [
       "                2000      2010\n",
       "California  33871648  37253956\n",
       "New York    18976457  19378102\n",
       "Texas       20851820  25145561"
      ]
     },
     "execution_count": 8,
     "metadata": {},
     "output_type": "execute_result"
    }
   ],
   "source": [
    "pop_df = pop.unstack()\n",
    "pop_df"
   ]
  },
  {
   "cell_type": "markdown",
   "metadata": {},
   "source": [
    "Naturally, the ``stack()`` method provides the opposite operation:"
   ]
  },
  {
   "cell_type": "code",
   "execution_count": 9,
   "metadata": {},
   "outputs": [
    {
     "data": {
      "text/plain": [
       "California  2000    33871648\n",
       "            2010    37253956\n",
       "New York    2000    18976457\n",
       "            2010    19378102\n",
       "Texas       2000    20851820\n",
       "            2010    25145561\n",
       "dtype: int64"
      ]
     },
     "execution_count": 9,
     "metadata": {},
     "output_type": "execute_result"
    }
   ],
   "source": [
    "pop_df.stack()"
   ]
  },
  {
   "cell_type": "markdown",
   "metadata": {},
   "source": [
    "Seeing this, you might wonder why would we would bother with hierarchical indexing at all.\n",
    "The reason is simple: just as we were able to use multi-indexing to represent two-dimensional data within a one-dimensional ``Series``, we can also use it to represent data of three or more dimensions in a ``Series`` or ``DataFrame``.\n",
    "Each extra level in a multi-index represents an extra dimension of data; taking advantage of this property gives us much more flexibility in the types of data we can represent. Concretely, we might want to add another column of demographic data for each state at each year (say, population under 18) ; with a ``MultiIndex`` this is as easy as adding another column to the ``DataFrame``:"
   ]
  },
  {
   "cell_type": "code",
   "execution_count": 9,
   "metadata": {},
   "outputs": [
    {
     "data": {
      "text/html": [
       "<div>\n",
       "<style scoped>\n",
       "    .dataframe tbody tr th:only-of-type {\n",
       "        vertical-align: middle;\n",
       "    }\n",
       "\n",
       "    .dataframe tbody tr th {\n",
       "        vertical-align: top;\n",
       "    }\n",
       "\n",
       "    .dataframe thead th {\n",
       "        text-align: right;\n",
       "    }\n",
       "</style>\n",
       "<table border=\"1\" class=\"dataframe\">\n",
       "  <thead>\n",
       "    <tr style=\"text-align: right;\">\n",
       "      <th></th>\n",
       "      <th></th>\n",
       "      <th>total</th>\n",
       "      <th>under18</th>\n",
       "    </tr>\n",
       "  </thead>\n",
       "  <tbody>\n",
       "    <tr>\n",
       "      <th rowspan=\"2\" valign=\"top\">California</th>\n",
       "      <th>2000</th>\n",
       "      <td>33871648</td>\n",
       "      <td>9267089</td>\n",
       "    </tr>\n",
       "    <tr>\n",
       "      <th>2010</th>\n",
       "      <td>37253956</td>\n",
       "      <td>9284094</td>\n",
       "    </tr>\n",
       "    <tr>\n",
       "      <th rowspan=\"2\" valign=\"top\">New York</th>\n",
       "      <th>2000</th>\n",
       "      <td>18976457</td>\n",
       "      <td>4687374</td>\n",
       "    </tr>\n",
       "    <tr>\n",
       "      <th>2010</th>\n",
       "      <td>19378102</td>\n",
       "      <td>4318033</td>\n",
       "    </tr>\n",
       "    <tr>\n",
       "      <th rowspan=\"2\" valign=\"top\">Texas</th>\n",
       "      <th>2000</th>\n",
       "      <td>20851820</td>\n",
       "      <td>5906301</td>\n",
       "    </tr>\n",
       "    <tr>\n",
       "      <th>2010</th>\n",
       "      <td>25145561</td>\n",
       "      <td>6879014</td>\n",
       "    </tr>\n",
       "  </tbody>\n",
       "</table>\n",
       "</div>"
      ],
      "text/plain": [
       "                    total  under18\n",
       "California 2000  33871648  9267089\n",
       "           2010  37253956  9284094\n",
       "New York   2000  18976457  4687374\n",
       "           2010  19378102  4318033\n",
       "Texas      2000  20851820  5906301\n",
       "           2010  25145561  6879014"
      ]
     },
     "execution_count": 9,
     "metadata": {},
     "output_type": "execute_result"
    }
   ],
   "source": [
    "pop_df = pd.DataFrame({'total': pop,\n",
    "                       'under18': [9267089, 9284094,\n",
    "                                   4687374, 4318033,\n",
    "                                   5906301, 6879014]})\n",
    "pop_df"
   ]
  },
  {
   "cell_type": "markdown",
   "metadata": {},
   "source": [
    "In addition, all the ufuncs and other functionality discussed in [Operating on Data in Pandas](03.03-Operations-in-Pandas.ipynb) work with hierarchical indices as well.\n",
    "Here we compute the fraction of people under 18 by year, given the above data:"
   ]
  },
  {
   "cell_type": "code",
   "execution_count": 10,
   "metadata": {},
   "outputs": [
    {
     "data": {
      "text/html": [
       "<div>\n",
       "<style scoped>\n",
       "    .dataframe tbody tr th:only-of-type {\n",
       "        vertical-align: middle;\n",
       "    }\n",
       "\n",
       "    .dataframe tbody tr th {\n",
       "        vertical-align: top;\n",
       "    }\n",
       "\n",
       "    .dataframe thead th {\n",
       "        text-align: right;\n",
       "    }\n",
       "</style>\n",
       "<table border=\"1\" class=\"dataframe\">\n",
       "  <thead>\n",
       "    <tr style=\"text-align: right;\">\n",
       "      <th></th>\n",
       "      <th>2000</th>\n",
       "      <th>2010</th>\n",
       "    </tr>\n",
       "  </thead>\n",
       "  <tbody>\n",
       "    <tr>\n",
       "      <th>California</th>\n",
       "      <td>0.273594</td>\n",
       "      <td>0.249211</td>\n",
       "    </tr>\n",
       "    <tr>\n",
       "      <th>New York</th>\n",
       "      <td>0.247010</td>\n",
       "      <td>0.222831</td>\n",
       "    </tr>\n",
       "    <tr>\n",
       "      <th>Texas</th>\n",
       "      <td>0.283251</td>\n",
       "      <td>0.273568</td>\n",
       "    </tr>\n",
       "  </tbody>\n",
       "</table>\n",
       "</div>"
      ],
      "text/plain": [
       "                2000      2010\n",
       "California  0.273594  0.249211\n",
       "New York    0.247010  0.222831\n",
       "Texas       0.283251  0.273568"
      ]
     },
     "execution_count": 10,
     "metadata": {},
     "output_type": "execute_result"
    }
   ],
   "source": [
    "f_u18 = pop_df['under18'] / pop_df['total']\n",
    "f_u18.unstack()"
   ]
  },
  {
   "cell_type": "markdown",
   "metadata": {},
   "source": [
    "This allows us to easily and quickly manipulate and explore even high-dimensional data."
   ]
  },
  {
   "cell_type": "markdown",
   "metadata": {},
   "source": [
    "## Methods of MultiIndex Creation\n",
    "\n",
    "The most straightforward way to construct a multiply indexed ``Series`` or ``DataFrame`` is to simply pass a list of two or more index arrays to the constructor. For example:"
   ]
  },
  {
   "cell_type": "code",
   "execution_count": 12,
   "metadata": {},
   "outputs": [
    {
     "name": "stdout",
     "output_type": "stream",
     "text": [
      "        data1     data2\n",
      "a 1  0.543817  0.535617\n",
      "  2  0.798506  0.176635\n",
      "b 1  0.657549  0.683189\n",
      "  2  0.021702  0.346050\n",
      "      data1               data2          \n",
      "          1         2         1         2\n",
      "a  0.543817  0.798506  0.535617  0.176635\n",
      "b  0.657549  0.021702  0.683189  0.346050\n"
     ]
    }
   ],
   "source": [
    "df = pd.DataFrame(np.random.rand(4, 2),\n",
    "                  index=[['a', 'a', 'b', 'b'], [1, 2, 1, 2]],\n",
    "                  columns=['data1', 'data2'])\n",
    "print(df)\n",
    "print(df.unstack())"
   ]
  },
  {
   "cell_type": "markdown",
   "metadata": {},
   "source": [
    "The work of creating the ``MultiIndex`` is done in the background.\n",
    "\n",
    "Similarly, if you pass a dictionary with appropriate tuples as keys, Pandas will automatically recognize this and use a ``MultiIndex`` by default:"
   ]
  },
  {
   "cell_type": "code",
   "execution_count": 13,
   "metadata": {},
   "outputs": [
    {
     "data": {
      "text/plain": [
       "California  2000    33871648\n",
       "            2010    37253956\n",
       "Texas       2000    20851820\n",
       "            2010    25145561\n",
       "New York    2000    18976457\n",
       "            2010    19378102\n",
       "dtype: int64"
      ]
     },
     "execution_count": 13,
     "metadata": {},
     "output_type": "execute_result"
    }
   ],
   "source": [
    "data = {('California', 2000): 33871648,\n",
    "        ('California', 2010): 37253956,\n",
    "        ('Texas', 2000): 20851820,\n",
    "        ('Texas', 2010): 25145561,\n",
    "        ('New York', 2000): 18976457,\n",
    "        ('New York', 2010): 19378102}\n",
    "pd.Series(data)"
   ]
  },
  {
   "cell_type": "markdown",
   "metadata": {},
   "source": [
    "Nevertheless, it is sometimes useful to explicitly create a ``MultiIndex``; we'll see a couple of these methods here."
   ]
  },
  {
   "cell_type": "markdown",
   "metadata": {},
   "source": [
    "### Explicit MultiIndex constructors\n",
    "\n",
    "For more flexibility in how the index is constructed, you can instead use the class method constructors available in the ``pd.MultiIndex``.\n",
    "For example, as we did before, you can construct the ``MultiIndex`` from a simple list of arrays giving the index values within each level:"
   ]
  },
  {
   "cell_type": "code",
   "execution_count": 15,
   "metadata": {},
   "outputs": [
    {
     "data": {
      "text/plain": [
       "MultiIndex([('a', 1),\n",
       "            ('a', 2),\n",
       "            ('b', 1),\n",
       "            ('b', 2)],\n",
       "           )"
      ]
     },
     "execution_count": 15,
     "metadata": {},
     "output_type": "execute_result"
    }
   ],
   "source": [
    "pd.MultiIndex.from_arrays([['a', 'a', 'b', 'b'], [1, 2, 1, 2]])"
   ]
  },
  {
   "cell_type": "markdown",
   "metadata": {},
   "source": [
    "You can construct it from a list of tuples giving the multiple index values of each point:"
   ]
  },
  {
   "cell_type": "code",
   "execution_count": 16,
   "metadata": {},
   "outputs": [
    {
     "data": {
      "text/plain": [
       "MultiIndex([('a', 1),\n",
       "            ('a', 2),\n",
       "            ('b', 1),\n",
       "            ('b', 2)],\n",
       "           )"
      ]
     },
     "execution_count": 16,
     "metadata": {},
     "output_type": "execute_result"
    }
   ],
   "source": [
    "pd.MultiIndex.from_tuples([('a', 1), ('a', 2), ('b', 1), ('b', 2)])"
   ]
  },
  {
   "cell_type": "markdown",
   "metadata": {},
   "source": [
    "You can even construct it from a Cartesian product of single indices:"
   ]
  },
  {
   "cell_type": "code",
   "execution_count": 31,
   "metadata": {},
   "outputs": [
    {
     "data": {
      "text/plain": [
       "MultiIndex([('a', 1),\n",
       "            ('a', 2),\n",
       "            ('a', 3),\n",
       "            ('b', 1),\n",
       "            ('b', 2),\n",
       "            ('b', 3)],\n",
       "           )"
      ]
     },
     "execution_count": 31,
     "metadata": {},
     "output_type": "execute_result"
    }
   ],
   "source": [
    "pd.MultiIndex.from_product([['a', 'b'], [1, 2,3]])"
   ]
  },
  {
   "cell_type": "markdown",
   "metadata": {},
   "source": [
    "Similarly, you can construct the ``MultiIndex`` directly using its internal encoding by passing ``levels`` (a list of lists containing available index values for each level) and ``labels`` (a list of lists that reference these labels):"
   ]
  },
  {
   "cell_type": "code",
   "execution_count": 20,
   "metadata": {},
   "outputs": [
    {
     "ename": "TypeError",
     "evalue": "__new__() got an unexpected keyword argument 'labels'",
     "output_type": "error",
     "traceback": [
      "\u001b[1;31m---------------------------------------------------------------------------\u001b[0m",
      "\u001b[1;31mTypeError\u001b[0m                                 Traceback (most recent call last)",
      "\u001b[1;32m<ipython-input-20-9fe16aa39879>\u001b[0m in \u001b[0;36m<module>\u001b[1;34m\u001b[0m\n\u001b[1;32m----> 1\u001b[1;33m pd.MultiIndex(levels=[['a', 'b'], [1, 2]],\n\u001b[0m\u001b[0;32m      2\u001b[0m               labels=[[0, 0, 1, 1], [0, 1, 0, 1]])\n",
      "\u001b[1;31mTypeError\u001b[0m: __new__() got an unexpected keyword argument 'labels'"
     ]
    }
   ],
   "source": [
    "pd.MultiIndex(levels=[['a', 'b'], [1, 2]],\n",
    "              labels=[[0, 0, 1, 1], [0, 1, 0, 1]])"
   ]
  },
  {
   "cell_type": "markdown",
   "metadata": {},
   "source": [
    "Any of these objects can be passed as the ``index`` argument when creating a ``Series`` or ``Dataframe``, or be passed to the ``reindex`` method of an existing ``Series`` or ``DataFrame``."
   ]
  },
  {
   "cell_type": "markdown",
   "metadata": {},
   "source": [
    "### MultiIndex level names\n",
    "\n",
    "Sometimes it is convenient to name the levels of the ``MultiIndex``.\n",
    "This can be accomplished by passing the ``names`` argument to any of the above ``MultiIndex`` constructors, or by setting the ``names`` attribute of the index after the fact:"
   ]
  },
  {
   "cell_type": "code",
   "execution_count": 21,
   "metadata": {},
   "outputs": [
    {
     "data": {
      "text/plain": [
       "state       year\n",
       "California  2000    33871648\n",
       "            2010    37253956\n",
       "New York    2000    18976457\n",
       "            2010    19378102\n",
       "Texas       2000    20851820\n",
       "            2010    25145561\n",
       "dtype: int64"
      ]
     },
     "execution_count": 21,
     "metadata": {},
     "output_type": "execute_result"
    }
   ],
   "source": [
    "pop.index.names = ['state', 'year']\n",
    "pop"
   ]
  },
  {
   "cell_type": "markdown",
   "metadata": {},
   "source": [
    "With more involved datasets, this can be a useful way to keep track of the meaning of various index values."
   ]
  },
  {
   "cell_type": "markdown",
   "metadata": {},
   "source": [
    "### MultiIndex for columns\n",
    "\n",
    "In a ``DataFrame``, the rows and columns are completely symmetric, and just as the rows can have multiple levels of indices, the columns can have multiple levels as well.\n",
    "Consider the following, which is a mock-up of some (somewhat realistic) medical data:"
   ]
  },
  {
   "cell_type": "code",
   "execution_count": 51,
   "metadata": {},
   "outputs": [
    {
     "data": {
      "text/html": [
       "<div>\n",
       "<style scoped>\n",
       "    .dataframe tbody tr th:only-of-type {\n",
       "        vertical-align: middle;\n",
       "    }\n",
       "\n",
       "    .dataframe tbody tr th {\n",
       "        vertical-align: top;\n",
       "    }\n",
       "\n",
       "    .dataframe thead tr th {\n",
       "        text-align: left;\n",
       "    }\n",
       "\n",
       "    .dataframe thead tr:last-of-type th {\n",
       "        text-align: right;\n",
       "    }\n",
       "</style>\n",
       "<table border=\"1\" class=\"dataframe\">\n",
       "  <thead>\n",
       "    <tr>\n",
       "      <th></th>\n",
       "      <th>subject</th>\n",
       "      <th colspan=\"3\" halign=\"left\">Bob</th>\n",
       "      <th colspan=\"3\" halign=\"left\">Guido</th>\n",
       "      <th colspan=\"3\" halign=\"left\">Sue</th>\n",
       "    </tr>\n",
       "    <tr>\n",
       "      <th></th>\n",
       "      <th>type</th>\n",
       "      <th>HR</th>\n",
       "      <th>Temp</th>\n",
       "      <th>Admin</th>\n",
       "      <th>HR</th>\n",
       "      <th>Temp</th>\n",
       "      <th>Admin</th>\n",
       "      <th>HR</th>\n",
       "      <th>Temp</th>\n",
       "      <th>Admin</th>\n",
       "    </tr>\n",
       "    <tr>\n",
       "      <th>year</th>\n",
       "      <th>session</th>\n",
       "      <th></th>\n",
       "      <th></th>\n",
       "      <th></th>\n",
       "      <th></th>\n",
       "      <th></th>\n",
       "      <th></th>\n",
       "      <th></th>\n",
       "      <th></th>\n",
       "      <th></th>\n",
       "    </tr>\n",
       "  </thead>\n",
       "  <tbody>\n",
       "    <tr>\n",
       "      <th rowspan=\"3\" valign=\"top\">2013</th>\n",
       "      <th>1</th>\n",
       "      <td>36.8280</td>\n",
       "      <td>30.4323</td>\n",
       "      <td>30.2209</td>\n",
       "      <td>29.4441</td>\n",
       "      <td>29.7067</td>\n",
       "      <td>30.2776</td>\n",
       "      <td>30.2611</td>\n",
       "      <td>27.4274</td>\n",
       "      <td>30.3896</td>\n",
       "    </tr>\n",
       "    <tr>\n",
       "      <th>2</th>\n",
       "      <td>26.5965</td>\n",
       "      <td>29.9151</td>\n",
       "      <td>31.8368</td>\n",
       "      <td>31.8484</td>\n",
       "      <td>29.3796</td>\n",
       "      <td>29.0087</td>\n",
       "      <td>27.7863</td>\n",
       "      <td>30.9259</td>\n",
       "      <td>30.1265</td>\n",
       "    </tr>\n",
       "    <tr>\n",
       "      <th>3</th>\n",
       "      <td>39.4260</td>\n",
       "      <td>31.2263</td>\n",
       "      <td>29.1585</td>\n",
       "      <td>29.4538</td>\n",
       "      <td>28.6172</td>\n",
       "      <td>28.9508</td>\n",
       "      <td>29.8821</td>\n",
       "      <td>30.8675</td>\n",
       "      <td>30.7979</td>\n",
       "    </tr>\n",
       "    <tr>\n",
       "      <th rowspan=\"3\" valign=\"top\">2014</th>\n",
       "      <th>1</th>\n",
       "      <td>32.1890</td>\n",
       "      <td>31.4605</td>\n",
       "      <td>30.1290</td>\n",
       "      <td>29.0034</td>\n",
       "      <td>28.7336</td>\n",
       "      <td>29.2168</td>\n",
       "      <td>31.2508</td>\n",
       "      <td>30.1317</td>\n",
       "      <td>29.0871</td>\n",
       "    </tr>\n",
       "    <tr>\n",
       "      <th>2</th>\n",
       "      <td>25.3240</td>\n",
       "      <td>29.3204</td>\n",
       "      <td>28.2928</td>\n",
       "      <td>30.0438</td>\n",
       "      <td>30.4477</td>\n",
       "      <td>30.9551</td>\n",
       "      <td>28.1232</td>\n",
       "      <td>29.9151</td>\n",
       "      <td>29.2973</td>\n",
       "    </tr>\n",
       "    <tr>\n",
       "      <th>3</th>\n",
       "      <td>32.2860</td>\n",
       "      <td>30.1546</td>\n",
       "      <td>28.6942</td>\n",
       "      <td>29.9960</td>\n",
       "      <td>29.6327</td>\n",
       "      <td>29.0865</td>\n",
       "      <td>30.5070</td>\n",
       "      <td>28.6844</td>\n",
       "      <td>29.6195</td>\n",
       "    </tr>\n",
       "    <tr>\n",
       "      <th rowspan=\"3\" valign=\"top\">2015</th>\n",
       "      <th>1</th>\n",
       "      <td>33.1515</td>\n",
       "      <td>29.9863</td>\n",
       "      <td>29.6798</td>\n",
       "      <td>28.3646</td>\n",
       "      <td>31.8518</td>\n",
       "      <td>31.5910</td>\n",
       "      <td>29.3723</td>\n",
       "      <td>29.8012</td>\n",
       "      <td>30.3921</td>\n",
       "    </tr>\n",
       "    <tr>\n",
       "      <th>2</th>\n",
       "      <td>27.9015</td>\n",
       "      <td>32.7687</td>\n",
       "      <td>30.7324</td>\n",
       "      <td>28.7988</td>\n",
       "      <td>29.4542</td>\n",
       "      <td>29.3931</td>\n",
       "      <td>30.4970</td>\n",
       "      <td>27.8455</td>\n",
       "      <td>30.5205</td>\n",
       "    </tr>\n",
       "    <tr>\n",
       "      <th>3</th>\n",
       "      <td>36.8335</td>\n",
       "      <td>29.0620</td>\n",
       "      <td>30.6849</td>\n",
       "      <td>29.8823</td>\n",
       "      <td>27.6963</td>\n",
       "      <td>30.9413</td>\n",
       "      <td>30.5530</td>\n",
       "      <td>28.6712</td>\n",
       "      <td>28.8165</td>\n",
       "    </tr>\n",
       "  </tbody>\n",
       "</table>\n",
       "</div>"
      ],
      "text/plain": [
       "subject           Bob                      Guido                        Sue  \\\n",
       "type               HR     Temp    Admin       HR     Temp    Admin       HR   \n",
       "year session                                                                  \n",
       "2013 1        36.8280  30.4323  30.2209  29.4441  29.7067  30.2776  30.2611   \n",
       "     2        26.5965  29.9151  31.8368  31.8484  29.3796  29.0087  27.7863   \n",
       "     3        39.4260  31.2263  29.1585  29.4538  28.6172  28.9508  29.8821   \n",
       "2014 1        32.1890  31.4605  30.1290  29.0034  28.7336  29.2168  31.2508   \n",
       "     2        25.3240  29.3204  28.2928  30.0438  30.4477  30.9551  28.1232   \n",
       "     3        32.2860  30.1546  28.6942  29.9960  29.6327  29.0865  30.5070   \n",
       "2015 1        33.1515  29.9863  29.6798  28.3646  31.8518  31.5910  29.3723   \n",
       "     2        27.9015  32.7687  30.7324  28.7988  29.4542  29.3931  30.4970   \n",
       "     3        36.8335  29.0620  30.6849  29.8823  27.6963  30.9413  30.5530   \n",
       "\n",
       "subject                         \n",
       "type             Temp    Admin  \n",
       "year session                    \n",
       "2013 1        27.4274  30.3896  \n",
       "     2        30.9259  30.1265  \n",
       "     3        30.8675  30.7979  \n",
       "2014 1        30.1317  29.0871  \n",
       "     2        29.9151  29.2973  \n",
       "     3        28.6844  29.6195  \n",
       "2015 1        29.8012  30.3921  \n",
       "     2        27.8455  30.5205  \n",
       "     3        28.6712  28.8165  "
      ]
     },
     "execution_count": 51,
     "metadata": {},
     "output_type": "execute_result"
    }
   ],
   "source": [
    "# hierarchical indices and columns\n",
    "index = pd.MultiIndex.from_product([[2013, 2014, 2015], [1, 2, 3]],\n",
    "                                  names=['year', 'session'])\n",
    "columns = pd.MultiIndex.from_product([['Bob', 'Guido', 'Sue'], ['HR', 'Temp','Admin']],\n",
    "                                     names=['subject', 'type'])\n",
    "\n",
    "# mock some data\n",
    "data = np.round(np.random.randn(9,9),4)\n",
    "data[:, ::20] *= 5\n",
    "data += 30\n",
    "\n",
    "# create the DataFrame\n",
    "health_data = pd.DataFrame(data, index=index, columns=columns)\n",
    "health_data"
   ]
  },
  {
   "cell_type": "code",
   "execution_count": 52,
   "metadata": {},
   "outputs": [
    {
     "data": {
      "text/plain": [
       "MultiIndex([(  'Bob',    'HR'),\n",
       "            (  'Bob',  'Temp'),\n",
       "            (  'Bob', 'Admin'),\n",
       "            ('Guido',    'HR'),\n",
       "            ('Guido',  'Temp'),\n",
       "            ('Guido', 'Admin'),\n",
       "            (  'Sue',    'HR'),\n",
       "            (  'Sue',  'Temp'),\n",
       "            (  'Sue', 'Admin')],\n",
       "           )"
      ]
     },
     "execution_count": 52,
     "metadata": {},
     "output_type": "execute_result"
    }
   ],
   "source": [
    "index = pd.MultiIndex.from_product([[2013, 2014, 2015], [1, 2, 3]],)\n",
    "index\n",
    "columns = pd.MultiIndex.from_product([['Bob', 'Guido', 'Sue'], ['HR', 'Temp','Admin']])\n",
    "columns"
   ]
  },
  {
   "cell_type": "markdown",
   "metadata": {},
   "source": [
    "Here we see where the multi-indexing for both rows and columns can come in *very* handy.\n",
    "This is fundamentally four-dimensional data, where the dimensions are the subject, the measurement type, the year, and the visit number.\n",
    "With this in place we can, for example, index the top-level column by the person's name and get a full ``DataFrame`` containing just that person's information:"
   ]
  },
  {
   "cell_type": "code",
   "execution_count": 72,
   "metadata": {},
   "outputs": [
    {
     "data": {
      "text/html": [
       "<div>\n",
       "<style scoped>\n",
       "    .dataframe tbody tr th:only-of-type {\n",
       "        vertical-align: middle;\n",
       "    }\n",
       "\n",
       "    .dataframe tbody tr th {\n",
       "        vertical-align: top;\n",
       "    }\n",
       "\n",
       "    .dataframe thead tr th {\n",
       "        text-align: left;\n",
       "    }\n",
       "\n",
       "    .dataframe thead tr:last-of-type th {\n",
       "        text-align: right;\n",
       "    }\n",
       "</style>\n",
       "<table border=\"1\" class=\"dataframe\">\n",
       "  <thead>\n",
       "    <tr>\n",
       "      <th></th>\n",
       "      <th>subject</th>\n",
       "      <th colspan=\"3\" halign=\"left\">Bob</th>\n",
       "      <th colspan=\"3\" halign=\"left\">Guido</th>\n",
       "      <th colspan=\"3\" halign=\"left\">Sue</th>\n",
       "    </tr>\n",
       "    <tr>\n",
       "      <th></th>\n",
       "      <th>type</th>\n",
       "      <th>HR</th>\n",
       "      <th>Temp</th>\n",
       "      <th>Admin</th>\n",
       "      <th>HR</th>\n",
       "      <th>Temp</th>\n",
       "      <th>Admin</th>\n",
       "      <th>HR</th>\n",
       "      <th>Temp</th>\n",
       "      <th>Admin</th>\n",
       "    </tr>\n",
       "    <tr>\n",
       "      <th>year</th>\n",
       "      <th>session</th>\n",
       "      <th></th>\n",
       "      <th></th>\n",
       "      <th></th>\n",
       "      <th></th>\n",
       "      <th></th>\n",
       "      <th></th>\n",
       "      <th></th>\n",
       "      <th></th>\n",
       "      <th></th>\n",
       "    </tr>\n",
       "  </thead>\n",
       "  <tbody>\n",
       "    <tr>\n",
       "      <th rowspan=\"3\" valign=\"top\">2013</th>\n",
       "      <th>1</th>\n",
       "      <td>36.8280</td>\n",
       "      <td>30.4323</td>\n",
       "      <td>30.2209</td>\n",
       "      <td>29.4441</td>\n",
       "      <td>29.7067</td>\n",
       "      <td>30.2776</td>\n",
       "      <td>30.2611</td>\n",
       "      <td>27.4274</td>\n",
       "      <td>30.3896</td>\n",
       "    </tr>\n",
       "    <tr>\n",
       "      <th>2</th>\n",
       "      <td>26.5965</td>\n",
       "      <td>29.9151</td>\n",
       "      <td>31.8368</td>\n",
       "      <td>31.8484</td>\n",
       "      <td>29.3796</td>\n",
       "      <td>29.0087</td>\n",
       "      <td>27.7863</td>\n",
       "      <td>30.9259</td>\n",
       "      <td>30.1265</td>\n",
       "    </tr>\n",
       "    <tr>\n",
       "      <th>3</th>\n",
       "      <td>39.4260</td>\n",
       "      <td>31.2263</td>\n",
       "      <td>29.1585</td>\n",
       "      <td>29.4538</td>\n",
       "      <td>28.6172</td>\n",
       "      <td>28.9508</td>\n",
       "      <td>29.8821</td>\n",
       "      <td>30.8675</td>\n",
       "      <td>30.7979</td>\n",
       "    </tr>\n",
       "    <tr>\n",
       "      <th rowspan=\"3\" valign=\"top\">2014</th>\n",
       "      <th>1</th>\n",
       "      <td>32.1890</td>\n",
       "      <td>31.4605</td>\n",
       "      <td>30.1290</td>\n",
       "      <td>29.0034</td>\n",
       "      <td>28.7336</td>\n",
       "      <td>29.2168</td>\n",
       "      <td>31.2508</td>\n",
       "      <td>30.1317</td>\n",
       "      <td>29.0871</td>\n",
       "    </tr>\n",
       "    <tr>\n",
       "      <th>2</th>\n",
       "      <td>25.3240</td>\n",
       "      <td>29.3204</td>\n",
       "      <td>28.2928</td>\n",
       "      <td>30.0438</td>\n",
       "      <td>30.4477</td>\n",
       "      <td>30.9551</td>\n",
       "      <td>28.1232</td>\n",
       "      <td>29.9151</td>\n",
       "      <td>29.2973</td>\n",
       "    </tr>\n",
       "    <tr>\n",
       "      <th>3</th>\n",
       "      <td>32.2860</td>\n",
       "      <td>30.1546</td>\n",
       "      <td>28.6942</td>\n",
       "      <td>29.9960</td>\n",
       "      <td>29.6327</td>\n",
       "      <td>29.0865</td>\n",
       "      <td>30.5070</td>\n",
       "      <td>28.6844</td>\n",
       "      <td>29.6195</td>\n",
       "    </tr>\n",
       "    <tr>\n",
       "      <th rowspan=\"2\" valign=\"top\">2015</th>\n",
       "      <th>1</th>\n",
       "      <td>33.1515</td>\n",
       "      <td>29.9863</td>\n",
       "      <td>29.6798</td>\n",
       "      <td>28.3646</td>\n",
       "      <td>31.8518</td>\n",
       "      <td>31.5910</td>\n",
       "      <td>29.3723</td>\n",
       "      <td>29.8012</td>\n",
       "      <td>30.3921</td>\n",
       "    </tr>\n",
       "    <tr>\n",
       "      <th>2</th>\n",
       "      <td>27.9015</td>\n",
       "      <td>32.7687</td>\n",
       "      <td>30.7324</td>\n",
       "      <td>28.7988</td>\n",
       "      <td>29.4542</td>\n",
       "      <td>29.3931</td>\n",
       "      <td>30.4970</td>\n",
       "      <td>27.8455</td>\n",
       "      <td>30.5205</td>\n",
       "    </tr>\n",
       "  </tbody>\n",
       "</table>\n",
       "</div>"
      ],
      "text/plain": [
       "subject           Bob                      Guido                        Sue  \\\n",
       "type               HR     Temp    Admin       HR     Temp    Admin       HR   \n",
       "year session                                                                  \n",
       "2013 1        36.8280  30.4323  30.2209  29.4441  29.7067  30.2776  30.2611   \n",
       "     2        26.5965  29.9151  31.8368  31.8484  29.3796  29.0087  27.7863   \n",
       "     3        39.4260  31.2263  29.1585  29.4538  28.6172  28.9508  29.8821   \n",
       "2014 1        32.1890  31.4605  30.1290  29.0034  28.7336  29.2168  31.2508   \n",
       "     2        25.3240  29.3204  28.2928  30.0438  30.4477  30.9551  28.1232   \n",
       "     3        32.2860  30.1546  28.6942  29.9960  29.6327  29.0865  30.5070   \n",
       "2015 1        33.1515  29.9863  29.6798  28.3646  31.8518  31.5910  29.3723   \n",
       "     2        27.9015  32.7687  30.7324  28.7988  29.4542  29.3931  30.4970   \n",
       "\n",
       "subject                         \n",
       "type             Temp    Admin  \n",
       "year session                    \n",
       "2013 1        27.4274  30.3896  \n",
       "     2        30.9259  30.1265  \n",
       "     3        30.8675  30.7979  \n",
       "2014 1        30.1317  29.0871  \n",
       "     2        29.9151  29.2973  \n",
       "     3        28.6844  29.6195  \n",
       "2015 1        29.8012  30.3921  \n",
       "     2        27.8455  30.5205  "
      ]
     },
     "execution_count": 72,
     "metadata": {},
     "output_type": "execute_result"
    }
   ],
   "source": [
    "health_data[(2013,1):(2015,2)]"
   ]
  },
  {
   "cell_type": "markdown",
   "metadata": {},
   "source": [
    "For complicated records containing multiple labeled measurements across multiple times for many subjects (people, countries, cities, etc.) use of hierarchical rows and columns can be extremely convenient!"
   ]
  },
  {
   "cell_type": "markdown",
   "metadata": {},
   "source": [
    "## Indexing and Slicing a MultiIndex\n",
    "\n",
    "Indexing and slicing on a ``MultiIndex`` is designed to be intuitive, and it helps if you think about the indices as added dimensions.\n",
    "We'll first look at indexing multiply indexed ``Series``, and then multiply-indexed ``DataFrame``s."
   ]
  },
  {
   "cell_type": "markdown",
   "metadata": {},
   "source": [
    "### Multiply indexed Series\n",
    "\n",
    "Consider the multiply indexed ``Series`` of state populations we saw earlier:"
   ]
  },
  {
   "cell_type": "code",
   "execution_count": 21,
   "metadata": {},
   "outputs": [
    {
     "data": {
      "text/plain": [
       "state       year\n",
       "California  2000    33871648\n",
       "            2010    37253956\n",
       "New York    2000    18976457\n",
       "            2010    19378102\n",
       "Texas       2000    20851820\n",
       "            2010    25145561\n",
       "dtype: int64"
      ]
     },
     "execution_count": 21,
     "metadata": {},
     "output_type": "execute_result"
    }
   ],
   "source": [
    "pop"
   ]
  },
  {
   "cell_type": "markdown",
   "metadata": {},
   "source": [
    "We can access single elements by indexing with multiple terms:"
   ]
  },
  {
   "cell_type": "code",
   "execution_count": 22,
   "metadata": {},
   "outputs": [
    {
     "data": {
      "text/plain": [
       "33871648"
      ]
     },
     "execution_count": 22,
     "metadata": {},
     "output_type": "execute_result"
    }
   ],
   "source": [
    "pop['California', 2000]"
   ]
  },
  {
   "cell_type": "markdown",
   "metadata": {},
   "source": [
    "The ``MultiIndex`` also supports *partial indexing*, or indexing just one of the levels in the index.\n",
    "The result is another ``Series``, with the lower-level indices maintained:"
   ]
  },
  {
   "cell_type": "code",
   "execution_count": 23,
   "metadata": {},
   "outputs": [
    {
     "data": {
      "text/plain": [
       "year\n",
       "2000    33871648\n",
       "2010    37253956\n",
       "dtype: int64"
      ]
     },
     "execution_count": 23,
     "metadata": {},
     "output_type": "execute_result"
    }
   ],
   "source": [
    "pop['California']"
   ]
  },
  {
   "cell_type": "markdown",
   "metadata": {},
   "source": [
    "Partial slicing is available as well, as long as the ``MultiIndex`` is sorted (see discussion in [Sorted and Unsorted Indices](#Sorted-and-unsorted-indices)):"
   ]
  },
  {
   "cell_type": "code",
   "execution_count": 24,
   "metadata": {},
   "outputs": [
    {
     "data": {
      "text/plain": [
       "state       year\n",
       "California  2000    33871648\n",
       "            2010    37253956\n",
       "New York    2000    18976457\n",
       "            2010    19378102\n",
       "dtype: int64"
      ]
     },
     "execution_count": 24,
     "metadata": {},
     "output_type": "execute_result"
    }
   ],
   "source": [
    "pop.loc['California':'New York']"
   ]
  },
  {
   "cell_type": "markdown",
   "metadata": {},
   "source": [
    "With sorted indices, partial indexing can be performed on lower levels by passing an empty slice in the first index:"
   ]
  },
  {
   "cell_type": "code",
   "execution_count": 25,
   "metadata": {},
   "outputs": [
    {
     "data": {
      "text/plain": [
       "state\n",
       "California    33871648\n",
       "New York      18976457\n",
       "Texas         20851820\n",
       "dtype: int64"
      ]
     },
     "execution_count": 25,
     "metadata": {},
     "output_type": "execute_result"
    }
   ],
   "source": [
    "pop[:, 2000]"
   ]
  },
  {
   "cell_type": "markdown",
   "metadata": {},
   "source": [
    "Other types of indexing and selection (discussed in [Data Indexing and Selection](03.02-Data-Indexing-and-Selection.ipynb)) work as well; for example, selection based on Boolean masks:"
   ]
  },
  {
   "cell_type": "code",
   "execution_count": 26,
   "metadata": {},
   "outputs": [
    {
     "data": {
      "text/plain": [
       "state       year\n",
       "California  2000    33871648\n",
       "            2010    37253956\n",
       "Texas       2010    25145561\n",
       "dtype: int64"
      ]
     },
     "execution_count": 26,
     "metadata": {},
     "output_type": "execute_result"
    }
   ],
   "source": [
    "pop[pop > 22000000]"
   ]
  },
  {
   "cell_type": "markdown",
   "metadata": {},
   "source": [
    "Selection based on fancy indexing also works:"
   ]
  },
  {
   "cell_type": "code",
   "execution_count": 27,
   "metadata": {},
   "outputs": [
    {
     "data": {
      "text/plain": [
       "state       year\n",
       "California  2000    33871648\n",
       "            2010    37253956\n",
       "Texas       2000    20851820\n",
       "            2010    25145561\n",
       "dtype: int64"
      ]
     },
     "execution_count": 27,
     "metadata": {},
     "output_type": "execute_result"
    }
   ],
   "source": [
    "pop[['California', 'Texas']]"
   ]
  },
  {
   "cell_type": "markdown",
   "metadata": {},
   "source": [
    "### Multiply indexed DataFrames\n",
    "\n",
    "A multiply indexed ``DataFrame`` behaves in a similar manner.\n",
    "Consider our toy medical ``DataFrame`` from before:"
   ]
  },
  {
   "cell_type": "code",
   "execution_count": 78,
   "metadata": {},
   "outputs": [
    {
     "data": {
      "text/html": [
       "<div>\n",
       "<style scoped>\n",
       "    .dataframe tbody tr th:only-of-type {\n",
       "        vertical-align: middle;\n",
       "    }\n",
       "\n",
       "    .dataframe tbody tr th {\n",
       "        vertical-align: top;\n",
       "    }\n",
       "\n",
       "    .dataframe thead tr th {\n",
       "        text-align: left;\n",
       "    }\n",
       "\n",
       "    .dataframe thead tr:last-of-type th {\n",
       "        text-align: right;\n",
       "    }\n",
       "</style>\n",
       "<table border=\"1\" class=\"dataframe\">\n",
       "  <thead>\n",
       "    <tr>\n",
       "      <th></th>\n",
       "      <th>subject</th>\n",
       "      <th colspan=\"3\" halign=\"left\">Bob</th>\n",
       "      <th colspan=\"3\" halign=\"left\">Guido</th>\n",
       "      <th colspan=\"3\" halign=\"left\">Sue</th>\n",
       "    </tr>\n",
       "    <tr>\n",
       "      <th></th>\n",
       "      <th>type</th>\n",
       "      <th>HR</th>\n",
       "      <th>Temp</th>\n",
       "      <th>Admin</th>\n",
       "      <th>HR</th>\n",
       "      <th>Temp</th>\n",
       "      <th>Admin</th>\n",
       "      <th>HR</th>\n",
       "      <th>Temp</th>\n",
       "      <th>Admin</th>\n",
       "    </tr>\n",
       "    <tr>\n",
       "      <th>year</th>\n",
       "      <th>session</th>\n",
       "      <th></th>\n",
       "      <th></th>\n",
       "      <th></th>\n",
       "      <th></th>\n",
       "      <th></th>\n",
       "      <th></th>\n",
       "      <th></th>\n",
       "      <th></th>\n",
       "      <th></th>\n",
       "    </tr>\n",
       "  </thead>\n",
       "  <tbody>\n",
       "    <tr>\n",
       "      <th rowspan=\"3\" valign=\"top\">2013</th>\n",
       "      <th>1</th>\n",
       "      <td>36.8280</td>\n",
       "      <td>30.4323</td>\n",
       "      <td>30.2209</td>\n",
       "      <td>29.4441</td>\n",
       "      <td>29.7067</td>\n",
       "      <td>30.2776</td>\n",
       "      <td>30.2611</td>\n",
       "      <td>27.4274</td>\n",
       "      <td>30.3896</td>\n",
       "    </tr>\n",
       "    <tr>\n",
       "      <th>2</th>\n",
       "      <td>26.5965</td>\n",
       "      <td>29.9151</td>\n",
       "      <td>31.8368</td>\n",
       "      <td>31.8484</td>\n",
       "      <td>29.3796</td>\n",
       "      <td>29.0087</td>\n",
       "      <td>27.7863</td>\n",
       "      <td>30.9259</td>\n",
       "      <td>30.1265</td>\n",
       "    </tr>\n",
       "    <tr>\n",
       "      <th>3</th>\n",
       "      <td>39.4260</td>\n",
       "      <td>31.2263</td>\n",
       "      <td>29.1585</td>\n",
       "      <td>29.4538</td>\n",
       "      <td>28.6172</td>\n",
       "      <td>28.9508</td>\n",
       "      <td>29.8821</td>\n",
       "      <td>30.8675</td>\n",
       "      <td>30.7979</td>\n",
       "    </tr>\n",
       "    <tr>\n",
       "      <th rowspan=\"3\" valign=\"top\">2014</th>\n",
       "      <th>1</th>\n",
       "      <td>32.1890</td>\n",
       "      <td>31.4605</td>\n",
       "      <td>30.1290</td>\n",
       "      <td>29.0034</td>\n",
       "      <td>28.7336</td>\n",
       "      <td>29.2168</td>\n",
       "      <td>31.2508</td>\n",
       "      <td>30.1317</td>\n",
       "      <td>29.0871</td>\n",
       "    </tr>\n",
       "    <tr>\n",
       "      <th>2</th>\n",
       "      <td>25.3240</td>\n",
       "      <td>29.3204</td>\n",
       "      <td>28.2928</td>\n",
       "      <td>30.0438</td>\n",
       "      <td>30.4477</td>\n",
       "      <td>30.9551</td>\n",
       "      <td>28.1232</td>\n",
       "      <td>29.9151</td>\n",
       "      <td>29.2973</td>\n",
       "    </tr>\n",
       "    <tr>\n",
       "      <th>3</th>\n",
       "      <td>32.2860</td>\n",
       "      <td>30.1546</td>\n",
       "      <td>28.6942</td>\n",
       "      <td>29.9960</td>\n",
       "      <td>29.6327</td>\n",
       "      <td>29.0865</td>\n",
       "      <td>30.5070</td>\n",
       "      <td>28.6844</td>\n",
       "      <td>29.6195</td>\n",
       "    </tr>\n",
       "    <tr>\n",
       "      <th rowspan=\"3\" valign=\"top\">2015</th>\n",
       "      <th>1</th>\n",
       "      <td>33.1515</td>\n",
       "      <td>29.9863</td>\n",
       "      <td>29.6798</td>\n",
       "      <td>28.3646</td>\n",
       "      <td>31.8518</td>\n",
       "      <td>31.5910</td>\n",
       "      <td>29.3723</td>\n",
       "      <td>29.8012</td>\n",
       "      <td>30.3921</td>\n",
       "    </tr>\n",
       "    <tr>\n",
       "      <th>2</th>\n",
       "      <td>27.9015</td>\n",
       "      <td>32.7687</td>\n",
       "      <td>30.7324</td>\n",
       "      <td>28.7988</td>\n",
       "      <td>29.4542</td>\n",
       "      <td>29.3931</td>\n",
       "      <td>30.4970</td>\n",
       "      <td>27.8455</td>\n",
       "      <td>30.5205</td>\n",
       "    </tr>\n",
       "    <tr>\n",
       "      <th>3</th>\n",
       "      <td>36.8335</td>\n",
       "      <td>29.0620</td>\n",
       "      <td>30.6849</td>\n",
       "      <td>29.8823</td>\n",
       "      <td>27.6963</td>\n",
       "      <td>30.9413</td>\n",
       "      <td>30.5530</td>\n",
       "      <td>28.6712</td>\n",
       "      <td>28.8165</td>\n",
       "    </tr>\n",
       "  </tbody>\n",
       "</table>\n",
       "</div>"
      ],
      "text/plain": [
       "subject           Bob                      Guido                        Sue  \\\n",
       "type               HR     Temp    Admin       HR     Temp    Admin       HR   \n",
       "year session                                                                  \n",
       "2013 1        36.8280  30.4323  30.2209  29.4441  29.7067  30.2776  30.2611   \n",
       "     2        26.5965  29.9151  31.8368  31.8484  29.3796  29.0087  27.7863   \n",
       "     3        39.4260  31.2263  29.1585  29.4538  28.6172  28.9508  29.8821   \n",
       "2014 1        32.1890  31.4605  30.1290  29.0034  28.7336  29.2168  31.2508   \n",
       "     2        25.3240  29.3204  28.2928  30.0438  30.4477  30.9551  28.1232   \n",
       "     3        32.2860  30.1546  28.6942  29.9960  29.6327  29.0865  30.5070   \n",
       "2015 1        33.1515  29.9863  29.6798  28.3646  31.8518  31.5910  29.3723   \n",
       "     2        27.9015  32.7687  30.7324  28.7988  29.4542  29.3931  30.4970   \n",
       "     3        36.8335  29.0620  30.6849  29.8823  27.6963  30.9413  30.5530   \n",
       "\n",
       "subject                         \n",
       "type             Temp    Admin  \n",
       "year session                    \n",
       "2013 1        27.4274  30.3896  \n",
       "     2        30.9259  30.1265  \n",
       "     3        30.8675  30.7979  \n",
       "2014 1        30.1317  29.0871  \n",
       "     2        29.9151  29.2973  \n",
       "     3        28.6844  29.6195  \n",
       "2015 1        29.8012  30.3921  \n",
       "     2        27.8455  30.5205  \n",
       "     3        28.6712  28.8165  "
      ]
     },
     "execution_count": 78,
     "metadata": {},
     "output_type": "execute_result"
    }
   ],
   "source": [
    "health_data"
   ]
  },
  {
   "cell_type": "markdown",
   "metadata": {},
   "source": [
    "Remember that columns are primary in a ``DataFrame``, and the syntax used for multiply indexed ``Series`` applies to the columns.\n",
    "For example, we can recover Guido's heart rate data with a simple operation:"
   ]
  },
  {
   "cell_type": "code",
   "execution_count": 79,
   "metadata": {},
   "outputs": [
    {
     "data": {
      "text/plain": [
       "year  session\n",
       "2013  1          29.4441\n",
       "      2          31.8484\n",
       "      3          29.4538\n",
       "2014  1          29.0034\n",
       "      2          30.0438\n",
       "      3          29.9960\n",
       "2015  1          28.3646\n",
       "      2          28.7988\n",
       "      3          29.8823\n",
       "Name: (Guido, HR), dtype: float64"
      ]
     },
     "execution_count": 79,
     "metadata": {},
     "output_type": "execute_result"
    }
   ],
   "source": [
    "health_data['Guido', 'HR']"
   ]
  },
  {
   "cell_type": "markdown",
   "metadata": {},
   "source": [
    "Also, as with the single-index case, we can use the ``loc``, ``iloc``, and ``ix`` indexers introduced in [Data Indexing and Selection](03.02-Data-Indexing-and-Selection.ipynb). For example:"
   ]
  },
  {
   "cell_type": "code",
   "execution_count": 90,
   "metadata": {},
   "outputs": [
    {
     "data": {
      "text/html": [
       "<div>\n",
       "<style scoped>\n",
       "    .dataframe tbody tr th:only-of-type {\n",
       "        vertical-align: middle;\n",
       "    }\n",
       "\n",
       "    .dataframe tbody tr th {\n",
       "        vertical-align: top;\n",
       "    }\n",
       "\n",
       "    .dataframe thead tr th {\n",
       "        text-align: left;\n",
       "    }\n",
       "\n",
       "    .dataframe thead tr:last-of-type th {\n",
       "        text-align: right;\n",
       "    }\n",
       "</style>\n",
       "<table border=\"1\" class=\"dataframe\">\n",
       "  <thead>\n",
       "    <tr>\n",
       "      <th></th>\n",
       "      <th>subject</th>\n",
       "      <th colspan=\"3\" halign=\"left\">Bob</th>\n",
       "      <th colspan=\"3\" halign=\"left\">Guido</th>\n",
       "      <th colspan=\"3\" halign=\"left\">Sue</th>\n",
       "    </tr>\n",
       "    <tr>\n",
       "      <th></th>\n",
       "      <th>type</th>\n",
       "      <th>HR</th>\n",
       "      <th>Temp</th>\n",
       "      <th>Admin</th>\n",
       "      <th>HR</th>\n",
       "      <th>Temp</th>\n",
       "      <th>Admin</th>\n",
       "      <th>HR</th>\n",
       "      <th>Temp</th>\n",
       "      <th>Admin</th>\n",
       "    </tr>\n",
       "    <tr>\n",
       "      <th>year</th>\n",
       "      <th>session</th>\n",
       "      <th></th>\n",
       "      <th></th>\n",
       "      <th></th>\n",
       "      <th></th>\n",
       "      <th></th>\n",
       "      <th></th>\n",
       "      <th></th>\n",
       "      <th></th>\n",
       "      <th></th>\n",
       "    </tr>\n",
       "  </thead>\n",
       "  <tbody>\n",
       "    <tr>\n",
       "      <th rowspan=\"3\" valign=\"top\">2013</th>\n",
       "      <th>1</th>\n",
       "      <td>36.8280</td>\n",
       "      <td>30.4323</td>\n",
       "      <td>30.2209</td>\n",
       "      <td>29.4441</td>\n",
       "      <td>29.7067</td>\n",
       "      <td>30.2776</td>\n",
       "      <td>30.2611</td>\n",
       "      <td>27.4274</td>\n",
       "      <td>30.3896</td>\n",
       "    </tr>\n",
       "    <tr>\n",
       "      <th>2</th>\n",
       "      <td>26.5965</td>\n",
       "      <td>29.9151</td>\n",
       "      <td>31.8368</td>\n",
       "      <td>31.8484</td>\n",
       "      <td>29.3796</td>\n",
       "      <td>29.0087</td>\n",
       "      <td>27.7863</td>\n",
       "      <td>30.9259</td>\n",
       "      <td>30.1265</td>\n",
       "    </tr>\n",
       "    <tr>\n",
       "      <th>3</th>\n",
       "      <td>39.4260</td>\n",
       "      <td>31.2263</td>\n",
       "      <td>29.1585</td>\n",
       "      <td>29.4538</td>\n",
       "      <td>28.6172</td>\n",
       "      <td>28.9508</td>\n",
       "      <td>29.8821</td>\n",
       "      <td>30.8675</td>\n",
       "      <td>30.7979</td>\n",
       "    </tr>\n",
       "    <tr>\n",
       "      <th rowspan=\"3\" valign=\"top\">2014</th>\n",
       "      <th>1</th>\n",
       "      <td>32.1890</td>\n",
       "      <td>31.4605</td>\n",
       "      <td>30.1290</td>\n",
       "      <td>29.0034</td>\n",
       "      <td>28.7336</td>\n",
       "      <td>29.2168</td>\n",
       "      <td>31.2508</td>\n",
       "      <td>30.1317</td>\n",
       "      <td>29.0871</td>\n",
       "    </tr>\n",
       "    <tr>\n",
       "      <th>2</th>\n",
       "      <td>25.3240</td>\n",
       "      <td>29.3204</td>\n",
       "      <td>28.2928</td>\n",
       "      <td>30.0438</td>\n",
       "      <td>30.4477</td>\n",
       "      <td>30.9551</td>\n",
       "      <td>28.1232</td>\n",
       "      <td>29.9151</td>\n",
       "      <td>29.2973</td>\n",
       "    </tr>\n",
       "    <tr>\n",
       "      <th>3</th>\n",
       "      <td>32.2860</td>\n",
       "      <td>30.1546</td>\n",
       "      <td>28.6942</td>\n",
       "      <td>29.9960</td>\n",
       "      <td>29.6327</td>\n",
       "      <td>29.0865</td>\n",
       "      <td>30.5070</td>\n",
       "      <td>28.6844</td>\n",
       "      <td>29.6195</td>\n",
       "    </tr>\n",
       "    <tr>\n",
       "      <th rowspan=\"3\" valign=\"top\">2015</th>\n",
       "      <th>1</th>\n",
       "      <td>33.1515</td>\n",
       "      <td>29.9863</td>\n",
       "      <td>29.6798</td>\n",
       "      <td>28.3646</td>\n",
       "      <td>31.8518</td>\n",
       "      <td>31.5910</td>\n",
       "      <td>29.3723</td>\n",
       "      <td>29.8012</td>\n",
       "      <td>30.3921</td>\n",
       "    </tr>\n",
       "    <tr>\n",
       "      <th>2</th>\n",
       "      <td>27.9015</td>\n",
       "      <td>32.7687</td>\n",
       "      <td>30.7324</td>\n",
       "      <td>28.7988</td>\n",
       "      <td>29.4542</td>\n",
       "      <td>29.3931</td>\n",
       "      <td>30.4970</td>\n",
       "      <td>27.8455</td>\n",
       "      <td>30.5205</td>\n",
       "    </tr>\n",
       "    <tr>\n",
       "      <th>3</th>\n",
       "      <td>36.8335</td>\n",
       "      <td>29.0620</td>\n",
       "      <td>30.6849</td>\n",
       "      <td>29.8823</td>\n",
       "      <td>27.6963</td>\n",
       "      <td>30.9413</td>\n",
       "      <td>30.5530</td>\n",
       "      <td>28.6712</td>\n",
       "      <td>28.8165</td>\n",
       "    </tr>\n",
       "  </tbody>\n",
       "</table>\n",
       "</div>"
      ],
      "text/plain": [
       "subject           Bob                      Guido                        Sue  \\\n",
       "type               HR     Temp    Admin       HR     Temp    Admin       HR   \n",
       "year session                                                                  \n",
       "2013 1        36.8280  30.4323  30.2209  29.4441  29.7067  30.2776  30.2611   \n",
       "     2        26.5965  29.9151  31.8368  31.8484  29.3796  29.0087  27.7863   \n",
       "     3        39.4260  31.2263  29.1585  29.4538  28.6172  28.9508  29.8821   \n",
       "2014 1        32.1890  31.4605  30.1290  29.0034  28.7336  29.2168  31.2508   \n",
       "     2        25.3240  29.3204  28.2928  30.0438  30.4477  30.9551  28.1232   \n",
       "     3        32.2860  30.1546  28.6942  29.9960  29.6327  29.0865  30.5070   \n",
       "2015 1        33.1515  29.9863  29.6798  28.3646  31.8518  31.5910  29.3723   \n",
       "     2        27.9015  32.7687  30.7324  28.7988  29.4542  29.3931  30.4970   \n",
       "     3        36.8335  29.0620  30.6849  29.8823  27.6963  30.9413  30.5530   \n",
       "\n",
       "subject                         \n",
       "type             Temp    Admin  \n",
       "year session                    \n",
       "2013 1        27.4274  30.3896  \n",
       "     2        30.9259  30.1265  \n",
       "     3        30.8675  30.7979  \n",
       "2014 1        30.1317  29.0871  \n",
       "     2        29.9151  29.2973  \n",
       "     3        28.6844  29.6195  \n",
       "2015 1        29.8012  30.3921  \n",
       "     2        27.8455  30.5205  \n",
       "     3        28.6712  28.8165  "
      ]
     },
     "execution_count": 90,
     "metadata": {},
     "output_type": "execute_result"
    }
   ],
   "source": [
    "health_data.iloc[0:9, 0:9]"
   ]
  },
  {
   "cell_type": "markdown",
   "metadata": {},
   "source": [
    "These indexers provide an array-like view of the underlying two-dimensional data, but each individual index in ``loc`` or ``iloc`` can be passed a tuple of multiple indices. For example:"
   ]
  },
  {
   "cell_type": "code",
   "execution_count": 97,
   "metadata": {},
   "outputs": [
    {
     "data": {
      "text/plain": [
       "year  session\n",
       "2013  1          36.8280\n",
       "      2          26.5965\n",
       "      3          39.4260\n",
       "2014  1          32.1890\n",
       "      2          25.3240\n",
       "      3          32.2860\n",
       "2015  1          33.1515\n",
       "      2          27.9015\n",
       "      3          36.8335\n",
       "Name: (Bob, HR), dtype: float64"
      ]
     },
     "execution_count": 97,
     "metadata": {},
     "output_type": "execute_result"
    }
   ],
   "source": [
    "health_data.loc[:, ('Bob', 'HR')]"
   ]
  },
  {
   "cell_type": "code",
   "execution_count": 102,
   "metadata": {},
   "outputs": [
    {
     "data": {
      "text/plain": [
       "subject  type \n",
       "Bob      HR       33.1515\n",
       "         Temp     29.9863\n",
       "         Admin    29.6798\n",
       "Guido    HR       28.3646\n",
       "         Temp     31.8518\n",
       "         Admin    31.5910\n",
       "Sue      HR       29.3723\n",
       "         Temp     29.8012\n",
       "         Admin    30.3921\n",
       "Name: (2015, 1), dtype: float64"
      ]
     },
     "execution_count": 102,
     "metadata": {},
     "output_type": "execute_result"
    }
   ],
   "source": [
    "health_data.loc[(2015, 1),:]"
   ]
  },
  {
   "cell_type": "code",
   "execution_count": 103,
   "metadata": {},
   "outputs": [
    {
     "data": {
      "text/plain": [
       "33.1515"
      ]
     },
     "execution_count": 103,
     "metadata": {},
     "output_type": "execute_result"
    }
   ],
   "source": [
    "health_data.loc[(2015, 1),('Bob', 'HR')]"
   ]
  },
  {
   "cell_type": "markdown",
   "metadata": {},
   "source": [
    "Working with slices within these index tuples is not especially convenient; trying to create a slice within a tuple will lead to a syntax error:"
   ]
  },
  {
   "cell_type": "code",
   "execution_count": 104,
   "metadata": {},
   "outputs": [
    {
     "ename": "SyntaxError",
     "evalue": "invalid syntax (<ipython-input-104-fb34fa30ac09>, line 1)",
     "output_type": "error",
     "traceback": [
      "\u001b[1;36m  File \u001b[1;32m\"<ipython-input-104-fb34fa30ac09>\"\u001b[1;36m, line \u001b[1;32m1\u001b[0m\n\u001b[1;33m    health_data.loc[(:, 1), (:, 'HR')]\u001b[0m\n\u001b[1;37m                     ^\u001b[0m\n\u001b[1;31mSyntaxError\u001b[0m\u001b[1;31m:\u001b[0m invalid syntax\n"
     ]
    }
   ],
   "source": [
    "health_data.loc[(:, 1), (:, 'HR')]"
   ]
  },
  {
   "cell_type": "markdown",
   "metadata": {},
   "source": [
    "You could get around this by building the desired slice explicitly using Python's built-in ``slice()`` function, but a better way in this context is to use an ``IndexSlice`` object, which Pandas provides for precisely this situation.\n",
    "For example:"
   ]
  },
  {
   "cell_type": "code",
   "execution_count": 111,
   "metadata": {},
   "outputs": [
    {
     "data": {
      "text/html": [
       "<div>\n",
       "<style scoped>\n",
       "    .dataframe tbody tr th:only-of-type {\n",
       "        vertical-align: middle;\n",
       "    }\n",
       "\n",
       "    .dataframe tbody tr th {\n",
       "        vertical-align: top;\n",
       "    }\n",
       "\n",
       "    .dataframe thead tr th {\n",
       "        text-align: left;\n",
       "    }\n",
       "\n",
       "    .dataframe thead tr:last-of-type th {\n",
       "        text-align: right;\n",
       "    }\n",
       "</style>\n",
       "<table border=\"1\" class=\"dataframe\">\n",
       "  <thead>\n",
       "    <tr>\n",
       "      <th></th>\n",
       "      <th>subject</th>\n",
       "      <th>Bob</th>\n",
       "      <th>Guido</th>\n",
       "      <th>Sue</th>\n",
       "    </tr>\n",
       "    <tr>\n",
       "      <th></th>\n",
       "      <th>type</th>\n",
       "      <th>Admin</th>\n",
       "      <th>Admin</th>\n",
       "      <th>Admin</th>\n",
       "    </tr>\n",
       "    <tr>\n",
       "      <th>year</th>\n",
       "      <th>session</th>\n",
       "      <th></th>\n",
       "      <th></th>\n",
       "      <th></th>\n",
       "    </tr>\n",
       "  </thead>\n",
       "  <tbody>\n",
       "    <tr>\n",
       "      <th>2013</th>\n",
       "      <th>3</th>\n",
       "      <td>29.1585</td>\n",
       "      <td>28.9508</td>\n",
       "      <td>30.7979</td>\n",
       "    </tr>\n",
       "    <tr>\n",
       "      <th>2014</th>\n",
       "      <th>3</th>\n",
       "      <td>28.6942</td>\n",
       "      <td>29.0865</td>\n",
       "      <td>29.6195</td>\n",
       "    </tr>\n",
       "    <tr>\n",
       "      <th>2015</th>\n",
       "      <th>3</th>\n",
       "      <td>30.6849</td>\n",
       "      <td>30.9413</td>\n",
       "      <td>28.8165</td>\n",
       "    </tr>\n",
       "  </tbody>\n",
       "</table>\n",
       "</div>"
      ],
      "text/plain": [
       "subject           Bob    Guido      Sue\n",
       "type            Admin    Admin    Admin\n",
       "year session                           \n",
       "2013 3        29.1585  28.9508  30.7979\n",
       "2014 3        28.6942  29.0865  29.6195\n",
       "2015 3        30.6849  30.9413  28.8165"
      ]
     },
     "execution_count": 111,
     "metadata": {},
     "output_type": "execute_result"
    }
   ],
   "source": [
    "idx = pd.IndexSlice\n",
    "health_data.loc[idx[:, 3], idx[:, 'Admin']]"
   ]
  },
  {
   "cell_type": "code",
   "execution_count": 110,
   "metadata": {},
   "outputs": [
    {
     "data": {
      "text/html": [
       "<div>\n",
       "<style scoped>\n",
       "    .dataframe tbody tr th:only-of-type {\n",
       "        vertical-align: middle;\n",
       "    }\n",
       "\n",
       "    .dataframe tbody tr th {\n",
       "        vertical-align: top;\n",
       "    }\n",
       "\n",
       "    .dataframe thead tr th {\n",
       "        text-align: left;\n",
       "    }\n",
       "\n",
       "    .dataframe thead tr:last-of-type th {\n",
       "        text-align: right;\n",
       "    }\n",
       "</style>\n",
       "<table border=\"1\" class=\"dataframe\">\n",
       "  <thead>\n",
       "    <tr>\n",
       "      <th></th>\n",
       "      <th>subject</th>\n",
       "      <th colspan=\"3\" halign=\"left\">Bob</th>\n",
       "      <th colspan=\"3\" halign=\"left\">Guido</th>\n",
       "      <th colspan=\"3\" halign=\"left\">Sue</th>\n",
       "    </tr>\n",
       "    <tr>\n",
       "      <th></th>\n",
       "      <th>type</th>\n",
       "      <th>HR</th>\n",
       "      <th>Temp</th>\n",
       "      <th>Admin</th>\n",
       "      <th>HR</th>\n",
       "      <th>Temp</th>\n",
       "      <th>Admin</th>\n",
       "      <th>HR</th>\n",
       "      <th>Temp</th>\n",
       "      <th>Admin</th>\n",
       "    </tr>\n",
       "    <tr>\n",
       "      <th>year</th>\n",
       "      <th>session</th>\n",
       "      <th></th>\n",
       "      <th></th>\n",
       "      <th></th>\n",
       "      <th></th>\n",
       "      <th></th>\n",
       "      <th></th>\n",
       "      <th></th>\n",
       "      <th></th>\n",
       "      <th></th>\n",
       "    </tr>\n",
       "  </thead>\n",
       "  <tbody>\n",
       "    <tr>\n",
       "      <th>2013</th>\n",
       "      <th>3</th>\n",
       "      <td>39.4260</td>\n",
       "      <td>31.2263</td>\n",
       "      <td>29.1585</td>\n",
       "      <td>29.4538</td>\n",
       "      <td>28.6172</td>\n",
       "      <td>28.9508</td>\n",
       "      <td>29.8821</td>\n",
       "      <td>30.8675</td>\n",
       "      <td>30.7979</td>\n",
       "    </tr>\n",
       "    <tr>\n",
       "      <th>2014</th>\n",
       "      <th>3</th>\n",
       "      <td>32.2860</td>\n",
       "      <td>30.1546</td>\n",
       "      <td>28.6942</td>\n",
       "      <td>29.9960</td>\n",
       "      <td>29.6327</td>\n",
       "      <td>29.0865</td>\n",
       "      <td>30.5070</td>\n",
       "      <td>28.6844</td>\n",
       "      <td>29.6195</td>\n",
       "    </tr>\n",
       "    <tr>\n",
       "      <th>2015</th>\n",
       "      <th>3</th>\n",
       "      <td>36.8335</td>\n",
       "      <td>29.0620</td>\n",
       "      <td>30.6849</td>\n",
       "      <td>29.8823</td>\n",
       "      <td>27.6963</td>\n",
       "      <td>30.9413</td>\n",
       "      <td>30.5530</td>\n",
       "      <td>28.6712</td>\n",
       "      <td>28.8165</td>\n",
       "    </tr>\n",
       "  </tbody>\n",
       "</table>\n",
       "</div>"
      ],
      "text/plain": [
       "subject           Bob                      Guido                        Sue  \\\n",
       "type               HR     Temp    Admin       HR     Temp    Admin       HR   \n",
       "year session                                                                  \n",
       "2013 3        39.4260  31.2263  29.1585  29.4538  28.6172  28.9508  29.8821   \n",
       "2014 3        32.2860  30.1546  28.6942  29.9960  29.6327  29.0865  30.5070   \n",
       "2015 3        36.8335  29.0620  30.6849  29.8823  27.6963  30.9413  30.5530   \n",
       "\n",
       "subject                         \n",
       "type             Temp    Admin  \n",
       "year session                    \n",
       "2013 3        30.8675  30.7979  \n",
       "2014 3        28.6844  29.6195  \n",
       "2015 3        28.6712  28.8165  "
      ]
     },
     "execution_count": 110,
     "metadata": {},
     "output_type": "execute_result"
    }
   ],
   "source": [
    "health_data.loc[idx[:, 3], idx[:, :]]"
   ]
  },
  {
   "cell_type": "markdown",
   "metadata": {},
   "source": [
    "There are so many ways to interact with data in multiply indexed ``Series`` and ``DataFrame``s, and as with many tools in this book the best way to become familiar with them is to try them out!"
   ]
  },
  {
   "cell_type": "markdown",
   "metadata": {},
   "source": [
    "## Rearranging Multi-Indices\n",
    "\n",
    "One of the keys to working with multiply indexed data is knowing how to effectively transform the data.\n",
    "There are a number of operations that will preserve all the information in the dataset, but rearrange it for the purposes of various computations.\n",
    "We saw a brief example of this in the ``stack()`` and ``unstack()`` methods, but there are many more ways to finely control the rearrangement of data between hierarchical indices and columns, and we'll explore them here."
   ]
  },
  {
   "cell_type": "markdown",
   "metadata": {},
   "source": [
    "### Sorted and unsorted indices\n",
    "\n",
    "Earlier, we briefly mentioned a caveat, but we should emphasize it more here.\n",
    "*Many of the ``MultiIndex`` slicing operations will fail if the index is not sorted.*\n",
    "Let's take a look at this here.\n",
    "\n",
    "We'll start by creating some simple multiply indexed data where the indices are *not lexographically sorted*:"
   ]
  },
  {
   "cell_type": "code",
   "execution_count": 112,
   "metadata": {},
   "outputs": [
    {
     "data": {
      "text/plain": [
       "char  int\n",
       "a     1      0.282262\n",
       "      2      0.951352\n",
       "c     1      0.161174\n",
       "      2      0.736342\n",
       "b     1      0.886701\n",
       "      2      0.592306\n",
       "dtype: float64"
      ]
     },
     "execution_count": 112,
     "metadata": {},
     "output_type": "execute_result"
    }
   ],
   "source": [
    "index = pd.MultiIndex.from_product([['a', 'c', 'b'], [1, 2]])\n",
    "data = pd.Series(np.random.rand(6), index=index)\n",
    "data.index.names = ['char', 'int']\n",
    "data"
   ]
  },
  {
   "cell_type": "markdown",
   "metadata": {},
   "source": [
    "If we try to take a partial slice of this index, it will result in an error:"
   ]
  },
  {
   "cell_type": "code",
   "execution_count": 113,
   "metadata": {},
   "outputs": [
    {
     "name": "stdout",
     "output_type": "stream",
     "text": [
      "<class 'pandas.errors.UnsortedIndexError'>\n",
      "'Key length (1) was greater than MultiIndex lexsort depth (0)'\n"
     ]
    }
   ],
   "source": [
    "try:\n",
    "    data['a':'b']\n",
    "except KeyError as e:\n",
    "    print(type(e))\n",
    "    print(e)"
   ]
  },
  {
   "cell_type": "markdown",
   "metadata": {},
   "source": [
    "Although it is not entirely clear from the error message, this is the result of the MultiIndex not being sorted.\n",
    "For various reasons, partial slices and other similar operations require the levels in the ``MultiIndex`` to be in sorted (i.e., lexographical) order.\n",
    "Pandas provides a number of convenience routines to perform this type of sorting; examples are the ``sort_index()`` and ``sortlevel()`` methods of the ``DataFrame``.\n",
    "We'll use the simplest, ``sort_index()``, here:"
   ]
  },
  {
   "cell_type": "code",
   "execution_count": 114,
   "metadata": {},
   "outputs": [
    {
     "data": {
      "text/plain": [
       "char  int\n",
       "a     1      0.282262\n",
       "      2      0.951352\n",
       "b     1      0.886701\n",
       "      2      0.592306\n",
       "c     1      0.161174\n",
       "      2      0.736342\n",
       "dtype: float64"
      ]
     },
     "execution_count": 114,
     "metadata": {},
     "output_type": "execute_result"
    }
   ],
   "source": [
    "data = data.sort_index()\n",
    "data"
   ]
  },
  {
   "cell_type": "markdown",
   "metadata": {},
   "source": [
    "With the index sorted in this way, partial slicing will work as expected:"
   ]
  },
  {
   "cell_type": "code",
   "execution_count": 115,
   "metadata": {},
   "outputs": [
    {
     "data": {
      "text/plain": [
       "char  int\n",
       "a     1      0.282262\n",
       "      2      0.951352\n",
       "b     1      0.886701\n",
       "      2      0.592306\n",
       "dtype: float64"
      ]
     },
     "execution_count": 115,
     "metadata": {},
     "output_type": "execute_result"
    }
   ],
   "source": [
    "data['a':'b']"
   ]
  },
  {
   "cell_type": "markdown",
   "metadata": {},
   "source": [
    "### Stacking and unstacking indices\n",
    "\n",
    "As we saw briefly before, it is possible to convert a dataset from a stacked multi-index to a simple two-dimensional representation, optionally specifying the level to use:"
   ]
  },
  {
   "cell_type": "code",
   "execution_count": 119,
   "metadata": {},
   "outputs": [
    {
     "data": {
      "text/html": [
       "<div>\n",
       "<style scoped>\n",
       "    .dataframe tbody tr th:only-of-type {\n",
       "        vertical-align: middle;\n",
       "    }\n",
       "\n",
       "    .dataframe tbody tr th {\n",
       "        vertical-align: top;\n",
       "    }\n",
       "\n",
       "    .dataframe thead tr th {\n",
       "        text-align: left;\n",
       "    }\n",
       "\n",
       "    .dataframe thead tr:last-of-type th {\n",
       "        text-align: right;\n",
       "    }\n",
       "</style>\n",
       "<table border=\"1\" class=\"dataframe\">\n",
       "  <thead>\n",
       "    <tr>\n",
       "      <th>subject</th>\n",
       "      <th colspan=\"9\" halign=\"left\">Bob</th>\n",
       "      <th colspan=\"3\" halign=\"left\">Guido</th>\n",
       "      <th colspan=\"9\" halign=\"left\">Sue</th>\n",
       "    </tr>\n",
       "    <tr>\n",
       "      <th>type</th>\n",
       "      <th colspan=\"3\" halign=\"left\">HR</th>\n",
       "      <th colspan=\"3\" halign=\"left\">Temp</th>\n",
       "      <th colspan=\"3\" halign=\"left\">Admin</th>\n",
       "      <th>HR</th>\n",
       "      <th>...</th>\n",
       "      <th>Admin</th>\n",
       "      <th colspan=\"3\" halign=\"left\">HR</th>\n",
       "      <th colspan=\"3\" halign=\"left\">Temp</th>\n",
       "      <th colspan=\"3\" halign=\"left\">Admin</th>\n",
       "    </tr>\n",
       "    <tr>\n",
       "      <th>year</th>\n",
       "      <th>2013</th>\n",
       "      <th>2014</th>\n",
       "      <th>2015</th>\n",
       "      <th>2013</th>\n",
       "      <th>2014</th>\n",
       "      <th>2015</th>\n",
       "      <th>2013</th>\n",
       "      <th>2014</th>\n",
       "      <th>2015</th>\n",
       "      <th>2013</th>\n",
       "      <th>...</th>\n",
       "      <th>2015</th>\n",
       "      <th>2013</th>\n",
       "      <th>2014</th>\n",
       "      <th>2015</th>\n",
       "      <th>2013</th>\n",
       "      <th>2014</th>\n",
       "      <th>2015</th>\n",
       "      <th>2013</th>\n",
       "      <th>2014</th>\n",
       "      <th>2015</th>\n",
       "    </tr>\n",
       "    <tr>\n",
       "      <th>session</th>\n",
       "      <th></th>\n",
       "      <th></th>\n",
       "      <th></th>\n",
       "      <th></th>\n",
       "      <th></th>\n",
       "      <th></th>\n",
       "      <th></th>\n",
       "      <th></th>\n",
       "      <th></th>\n",
       "      <th></th>\n",
       "      <th></th>\n",
       "      <th></th>\n",
       "      <th></th>\n",
       "      <th></th>\n",
       "      <th></th>\n",
       "      <th></th>\n",
       "      <th></th>\n",
       "      <th></th>\n",
       "      <th></th>\n",
       "      <th></th>\n",
       "      <th></th>\n",
       "    </tr>\n",
       "  </thead>\n",
       "  <tbody>\n",
       "    <tr>\n",
       "      <th>1</th>\n",
       "      <td>36.8280</td>\n",
       "      <td>32.189</td>\n",
       "      <td>33.1515</td>\n",
       "      <td>30.4323</td>\n",
       "      <td>31.4605</td>\n",
       "      <td>29.9863</td>\n",
       "      <td>30.2209</td>\n",
       "      <td>30.1290</td>\n",
       "      <td>29.6798</td>\n",
       "      <td>29.4441</td>\n",
       "      <td>...</td>\n",
       "      <td>31.5910</td>\n",
       "      <td>30.2611</td>\n",
       "      <td>31.2508</td>\n",
       "      <td>29.3723</td>\n",
       "      <td>27.4274</td>\n",
       "      <td>30.1317</td>\n",
       "      <td>29.8012</td>\n",
       "      <td>30.3896</td>\n",
       "      <td>29.0871</td>\n",
       "      <td>30.3921</td>\n",
       "    </tr>\n",
       "    <tr>\n",
       "      <th>2</th>\n",
       "      <td>26.5965</td>\n",
       "      <td>25.324</td>\n",
       "      <td>27.9015</td>\n",
       "      <td>29.9151</td>\n",
       "      <td>29.3204</td>\n",
       "      <td>32.7687</td>\n",
       "      <td>31.8368</td>\n",
       "      <td>28.2928</td>\n",
       "      <td>30.7324</td>\n",
       "      <td>31.8484</td>\n",
       "      <td>...</td>\n",
       "      <td>29.3931</td>\n",
       "      <td>27.7863</td>\n",
       "      <td>28.1232</td>\n",
       "      <td>30.4970</td>\n",
       "      <td>30.9259</td>\n",
       "      <td>29.9151</td>\n",
       "      <td>27.8455</td>\n",
       "      <td>30.1265</td>\n",
       "      <td>29.2973</td>\n",
       "      <td>30.5205</td>\n",
       "    </tr>\n",
       "    <tr>\n",
       "      <th>3</th>\n",
       "      <td>39.4260</td>\n",
       "      <td>32.286</td>\n",
       "      <td>36.8335</td>\n",
       "      <td>31.2263</td>\n",
       "      <td>30.1546</td>\n",
       "      <td>29.0620</td>\n",
       "      <td>29.1585</td>\n",
       "      <td>28.6942</td>\n",
       "      <td>30.6849</td>\n",
       "      <td>29.4538</td>\n",
       "      <td>...</td>\n",
       "      <td>30.9413</td>\n",
       "      <td>29.8821</td>\n",
       "      <td>30.5070</td>\n",
       "      <td>30.5530</td>\n",
       "      <td>30.8675</td>\n",
       "      <td>28.6844</td>\n",
       "      <td>28.6712</td>\n",
       "      <td>30.7979</td>\n",
       "      <td>29.6195</td>\n",
       "      <td>28.8165</td>\n",
       "    </tr>\n",
       "  </tbody>\n",
       "</table>\n",
       "<p>3 rows × 27 columns</p>\n",
       "</div>"
      ],
      "text/plain": [
       "subject      Bob                                                       \\\n",
       "type          HR                      Temp                      Admin   \n",
       "year        2013    2014     2015     2013     2014     2015     2013   \n",
       "session                                                                 \n",
       "1        36.8280  32.189  33.1515  30.4323  31.4605  29.9863  30.2209   \n",
       "2        26.5965  25.324  27.9015  29.9151  29.3204  32.7687  31.8368   \n",
       "3        39.4260  32.286  36.8335  31.2263  30.1546  29.0620  29.1585   \n",
       "\n",
       "subject                      Guido  ...               Sue                    \\\n",
       "type                            HR  ...    Admin       HR                     \n",
       "year        2014     2015     2013  ...     2015     2013     2014     2015   \n",
       "session                             ...                                       \n",
       "1        30.1290  29.6798  29.4441  ...  31.5910  30.2611  31.2508  29.3723   \n",
       "2        28.2928  30.7324  31.8484  ...  29.3931  27.7863  28.1232  30.4970   \n",
       "3        28.6942  30.6849  29.4538  ...  30.9413  29.8821  30.5070  30.5530   \n",
       "\n",
       "subject                                                        \n",
       "type        Temp                      Admin                    \n",
       "year        2013     2014     2015     2013     2014     2015  \n",
       "session                                                        \n",
       "1        27.4274  30.1317  29.8012  30.3896  29.0871  30.3921  \n",
       "2        30.9259  29.9151  27.8455  30.1265  29.2973  30.5205  \n",
       "3        30.8675  28.6844  28.6712  30.7979  29.6195  28.8165  \n",
       "\n",
       "[3 rows x 27 columns]"
      ]
     },
     "execution_count": 119,
     "metadata": {},
     "output_type": "execute_result"
    }
   ],
   "source": [
    "pop.unstack(level=0)\n",
    "health_data.unstack(level=0)"
   ]
  },
  {
   "cell_type": "code",
   "execution_count": 123,
   "metadata": {},
   "outputs": [
    {
     "data": {
      "text/html": [
       "<div>\n",
       "<style scoped>\n",
       "    .dataframe tbody tr th:only-of-type {\n",
       "        vertical-align: middle;\n",
       "    }\n",
       "\n",
       "    .dataframe tbody tr th {\n",
       "        vertical-align: top;\n",
       "    }\n",
       "\n",
       "    .dataframe thead tr th {\n",
       "        text-align: left;\n",
       "    }\n",
       "\n",
       "    .dataframe thead tr:last-of-type th {\n",
       "        text-align: right;\n",
       "    }\n",
       "</style>\n",
       "<table border=\"1\" class=\"dataframe\">\n",
       "  <thead>\n",
       "    <tr>\n",
       "      <th>subject</th>\n",
       "      <th colspan=\"9\" halign=\"left\">Bob</th>\n",
       "      <th colspan=\"3\" halign=\"left\">Guido</th>\n",
       "      <th colspan=\"9\" halign=\"left\">Sue</th>\n",
       "    </tr>\n",
       "    <tr>\n",
       "      <th>type</th>\n",
       "      <th colspan=\"3\" halign=\"left\">HR</th>\n",
       "      <th colspan=\"3\" halign=\"left\">Temp</th>\n",
       "      <th colspan=\"3\" halign=\"left\">Admin</th>\n",
       "      <th>HR</th>\n",
       "      <th>...</th>\n",
       "      <th>Admin</th>\n",
       "      <th colspan=\"3\" halign=\"left\">HR</th>\n",
       "      <th colspan=\"3\" halign=\"left\">Temp</th>\n",
       "      <th colspan=\"3\" halign=\"left\">Admin</th>\n",
       "    </tr>\n",
       "    <tr>\n",
       "      <th>session</th>\n",
       "      <th>1</th>\n",
       "      <th>2</th>\n",
       "      <th>3</th>\n",
       "      <th>1</th>\n",
       "      <th>2</th>\n",
       "      <th>3</th>\n",
       "      <th>1</th>\n",
       "      <th>2</th>\n",
       "      <th>3</th>\n",
       "      <th>1</th>\n",
       "      <th>...</th>\n",
       "      <th>3</th>\n",
       "      <th>1</th>\n",
       "      <th>2</th>\n",
       "      <th>3</th>\n",
       "      <th>1</th>\n",
       "      <th>2</th>\n",
       "      <th>3</th>\n",
       "      <th>1</th>\n",
       "      <th>2</th>\n",
       "      <th>3</th>\n",
       "    </tr>\n",
       "    <tr>\n",
       "      <th>year</th>\n",
       "      <th></th>\n",
       "      <th></th>\n",
       "      <th></th>\n",
       "      <th></th>\n",
       "      <th></th>\n",
       "      <th></th>\n",
       "      <th></th>\n",
       "      <th></th>\n",
       "      <th></th>\n",
       "      <th></th>\n",
       "      <th></th>\n",
       "      <th></th>\n",
       "      <th></th>\n",
       "      <th></th>\n",
       "      <th></th>\n",
       "      <th></th>\n",
       "      <th></th>\n",
       "      <th></th>\n",
       "      <th></th>\n",
       "      <th></th>\n",
       "      <th></th>\n",
       "    </tr>\n",
       "  </thead>\n",
       "  <tbody>\n",
       "    <tr>\n",
       "      <th>2013</th>\n",
       "      <td>36.8280</td>\n",
       "      <td>26.5965</td>\n",
       "      <td>39.4260</td>\n",
       "      <td>30.4323</td>\n",
       "      <td>29.9151</td>\n",
       "      <td>31.2263</td>\n",
       "      <td>30.2209</td>\n",
       "      <td>31.8368</td>\n",
       "      <td>29.1585</td>\n",
       "      <td>29.4441</td>\n",
       "      <td>...</td>\n",
       "      <td>28.9508</td>\n",
       "      <td>30.2611</td>\n",
       "      <td>27.7863</td>\n",
       "      <td>29.8821</td>\n",
       "      <td>27.4274</td>\n",
       "      <td>30.9259</td>\n",
       "      <td>30.8675</td>\n",
       "      <td>30.3896</td>\n",
       "      <td>30.1265</td>\n",
       "      <td>30.7979</td>\n",
       "    </tr>\n",
       "    <tr>\n",
       "      <th>2014</th>\n",
       "      <td>32.1890</td>\n",
       "      <td>25.3240</td>\n",
       "      <td>32.2860</td>\n",
       "      <td>31.4605</td>\n",
       "      <td>29.3204</td>\n",
       "      <td>30.1546</td>\n",
       "      <td>30.1290</td>\n",
       "      <td>28.2928</td>\n",
       "      <td>28.6942</td>\n",
       "      <td>29.0034</td>\n",
       "      <td>...</td>\n",
       "      <td>29.0865</td>\n",
       "      <td>31.2508</td>\n",
       "      <td>28.1232</td>\n",
       "      <td>30.5070</td>\n",
       "      <td>30.1317</td>\n",
       "      <td>29.9151</td>\n",
       "      <td>28.6844</td>\n",
       "      <td>29.0871</td>\n",
       "      <td>29.2973</td>\n",
       "      <td>29.6195</td>\n",
       "    </tr>\n",
       "    <tr>\n",
       "      <th>2015</th>\n",
       "      <td>33.1515</td>\n",
       "      <td>27.9015</td>\n",
       "      <td>36.8335</td>\n",
       "      <td>29.9863</td>\n",
       "      <td>32.7687</td>\n",
       "      <td>29.0620</td>\n",
       "      <td>29.6798</td>\n",
       "      <td>30.7324</td>\n",
       "      <td>30.6849</td>\n",
       "      <td>28.3646</td>\n",
       "      <td>...</td>\n",
       "      <td>30.9413</td>\n",
       "      <td>29.3723</td>\n",
       "      <td>30.4970</td>\n",
       "      <td>30.5530</td>\n",
       "      <td>29.8012</td>\n",
       "      <td>27.8455</td>\n",
       "      <td>28.6712</td>\n",
       "      <td>30.3921</td>\n",
       "      <td>30.5205</td>\n",
       "      <td>28.8165</td>\n",
       "    </tr>\n",
       "  </tbody>\n",
       "</table>\n",
       "<p>3 rows × 27 columns</p>\n",
       "</div>"
      ],
      "text/plain": [
       "subject      Bob                                                        \\\n",
       "type          HR                       Temp                      Admin   \n",
       "session        1        2        3        1        2        3        1   \n",
       "year                                                                     \n",
       "2013     36.8280  26.5965  39.4260  30.4323  29.9151  31.2263  30.2209   \n",
       "2014     32.1890  25.3240  32.2860  31.4605  29.3204  30.1546  30.1290   \n",
       "2015     33.1515  27.9015  36.8335  29.9863  32.7687  29.0620  29.6798   \n",
       "\n",
       "subject                      Guido  ...               Sue                    \\\n",
       "type                            HR  ...    Admin       HR                     \n",
       "session        2        3        1  ...        3        1        2        3   \n",
       "year                                ...                                       \n",
       "2013     31.8368  29.1585  29.4441  ...  28.9508  30.2611  27.7863  29.8821   \n",
       "2014     28.2928  28.6942  29.0034  ...  29.0865  31.2508  28.1232  30.5070   \n",
       "2015     30.7324  30.6849  28.3646  ...  30.9413  29.3723  30.4970  30.5530   \n",
       "\n",
       "subject                                                        \n",
       "type        Temp                      Admin                    \n",
       "session        1        2        3        1        2        3  \n",
       "year                                                           \n",
       "2013     27.4274  30.9259  30.8675  30.3896  30.1265  30.7979  \n",
       "2014     30.1317  29.9151  28.6844  29.0871  29.2973  29.6195  \n",
       "2015     29.8012  27.8455  28.6712  30.3921  30.5205  28.8165  \n",
       "\n",
       "[3 rows x 27 columns]"
      ]
     },
     "execution_count": 123,
     "metadata": {},
     "output_type": "execute_result"
    }
   ],
   "source": [
    "pop.unstack(level=1)\n",
    "health_data.unstack(level=1)"
   ]
  },
  {
   "cell_type": "markdown",
   "metadata": {},
   "source": [
    "The opposite of ``unstack()`` is ``stack()``, which here can be used to recover the original series:"
   ]
  },
  {
   "cell_type": "code",
   "execution_count": 121,
   "metadata": {},
   "outputs": [
    {
     "data": {
      "text/html": [
       "<div>\n",
       "<style scoped>\n",
       "    .dataframe tbody tr th:only-of-type {\n",
       "        vertical-align: middle;\n",
       "    }\n",
       "\n",
       "    .dataframe tbody tr th {\n",
       "        vertical-align: top;\n",
       "    }\n",
       "\n",
       "    .dataframe thead tr th {\n",
       "        text-align: left;\n",
       "    }\n",
       "\n",
       "    .dataframe thead tr:last-of-type th {\n",
       "        text-align: right;\n",
       "    }\n",
       "</style>\n",
       "<table border=\"1\" class=\"dataframe\">\n",
       "  <thead>\n",
       "    <tr>\n",
       "      <th></th>\n",
       "      <th>subject</th>\n",
       "      <th colspan=\"3\" halign=\"left\">Bob</th>\n",
       "      <th colspan=\"3\" halign=\"left\">Guido</th>\n",
       "      <th colspan=\"3\" halign=\"left\">Sue</th>\n",
       "    </tr>\n",
       "    <tr>\n",
       "      <th></th>\n",
       "      <th>type</th>\n",
       "      <th>Admin</th>\n",
       "      <th>HR</th>\n",
       "      <th>Temp</th>\n",
       "      <th>Admin</th>\n",
       "      <th>HR</th>\n",
       "      <th>Temp</th>\n",
       "      <th>Admin</th>\n",
       "      <th>HR</th>\n",
       "      <th>Temp</th>\n",
       "    </tr>\n",
       "    <tr>\n",
       "      <th>year</th>\n",
       "      <th>session</th>\n",
       "      <th></th>\n",
       "      <th></th>\n",
       "      <th></th>\n",
       "      <th></th>\n",
       "      <th></th>\n",
       "      <th></th>\n",
       "      <th></th>\n",
       "      <th></th>\n",
       "      <th></th>\n",
       "    </tr>\n",
       "  </thead>\n",
       "  <tbody>\n",
       "    <tr>\n",
       "      <th rowspan=\"3\" valign=\"top\">2013</th>\n",
       "      <th>1</th>\n",
       "      <td>30.2209</td>\n",
       "      <td>36.8280</td>\n",
       "      <td>30.4323</td>\n",
       "      <td>30.2776</td>\n",
       "      <td>29.4441</td>\n",
       "      <td>29.7067</td>\n",
       "      <td>30.3896</td>\n",
       "      <td>30.2611</td>\n",
       "      <td>27.4274</td>\n",
       "    </tr>\n",
       "    <tr>\n",
       "      <th>2</th>\n",
       "      <td>31.8368</td>\n",
       "      <td>26.5965</td>\n",
       "      <td>29.9151</td>\n",
       "      <td>29.0087</td>\n",
       "      <td>31.8484</td>\n",
       "      <td>29.3796</td>\n",
       "      <td>30.1265</td>\n",
       "      <td>27.7863</td>\n",
       "      <td>30.9259</td>\n",
       "    </tr>\n",
       "    <tr>\n",
       "      <th>3</th>\n",
       "      <td>29.1585</td>\n",
       "      <td>39.4260</td>\n",
       "      <td>31.2263</td>\n",
       "      <td>28.9508</td>\n",
       "      <td>29.4538</td>\n",
       "      <td>28.6172</td>\n",
       "      <td>30.7979</td>\n",
       "      <td>29.8821</td>\n",
       "      <td>30.8675</td>\n",
       "    </tr>\n",
       "    <tr>\n",
       "      <th rowspan=\"3\" valign=\"top\">2014</th>\n",
       "      <th>1</th>\n",
       "      <td>30.1290</td>\n",
       "      <td>32.1890</td>\n",
       "      <td>31.4605</td>\n",
       "      <td>29.2168</td>\n",
       "      <td>29.0034</td>\n",
       "      <td>28.7336</td>\n",
       "      <td>29.0871</td>\n",
       "      <td>31.2508</td>\n",
       "      <td>30.1317</td>\n",
       "    </tr>\n",
       "    <tr>\n",
       "      <th>2</th>\n",
       "      <td>28.2928</td>\n",
       "      <td>25.3240</td>\n",
       "      <td>29.3204</td>\n",
       "      <td>30.9551</td>\n",
       "      <td>30.0438</td>\n",
       "      <td>30.4477</td>\n",
       "      <td>29.2973</td>\n",
       "      <td>28.1232</td>\n",
       "      <td>29.9151</td>\n",
       "    </tr>\n",
       "    <tr>\n",
       "      <th>3</th>\n",
       "      <td>28.6942</td>\n",
       "      <td>32.2860</td>\n",
       "      <td>30.1546</td>\n",
       "      <td>29.0865</td>\n",
       "      <td>29.9960</td>\n",
       "      <td>29.6327</td>\n",
       "      <td>29.6195</td>\n",
       "      <td>30.5070</td>\n",
       "      <td>28.6844</td>\n",
       "    </tr>\n",
       "    <tr>\n",
       "      <th rowspan=\"3\" valign=\"top\">2015</th>\n",
       "      <th>1</th>\n",
       "      <td>29.6798</td>\n",
       "      <td>33.1515</td>\n",
       "      <td>29.9863</td>\n",
       "      <td>31.5910</td>\n",
       "      <td>28.3646</td>\n",
       "      <td>31.8518</td>\n",
       "      <td>30.3921</td>\n",
       "      <td>29.3723</td>\n",
       "      <td>29.8012</td>\n",
       "    </tr>\n",
       "    <tr>\n",
       "      <th>2</th>\n",
       "      <td>30.7324</td>\n",
       "      <td>27.9015</td>\n",
       "      <td>32.7687</td>\n",
       "      <td>29.3931</td>\n",
       "      <td>28.7988</td>\n",
       "      <td>29.4542</td>\n",
       "      <td>30.5205</td>\n",
       "      <td>30.4970</td>\n",
       "      <td>27.8455</td>\n",
       "    </tr>\n",
       "    <tr>\n",
       "      <th>3</th>\n",
       "      <td>30.6849</td>\n",
       "      <td>36.8335</td>\n",
       "      <td>29.0620</td>\n",
       "      <td>30.9413</td>\n",
       "      <td>29.8823</td>\n",
       "      <td>27.6963</td>\n",
       "      <td>28.8165</td>\n",
       "      <td>30.5530</td>\n",
       "      <td>28.6712</td>\n",
       "    </tr>\n",
       "  </tbody>\n",
       "</table>\n",
       "</div>"
      ],
      "text/plain": [
       "subject           Bob                      Guido                        Sue  \\\n",
       "type            Admin       HR     Temp    Admin       HR     Temp    Admin   \n",
       "year session                                                                  \n",
       "2013 1        30.2209  36.8280  30.4323  30.2776  29.4441  29.7067  30.3896   \n",
       "     2        31.8368  26.5965  29.9151  29.0087  31.8484  29.3796  30.1265   \n",
       "     3        29.1585  39.4260  31.2263  28.9508  29.4538  28.6172  30.7979   \n",
       "2014 1        30.1290  32.1890  31.4605  29.2168  29.0034  28.7336  29.0871   \n",
       "     2        28.2928  25.3240  29.3204  30.9551  30.0438  30.4477  29.2973   \n",
       "     3        28.6942  32.2860  30.1546  29.0865  29.9960  29.6327  29.6195   \n",
       "2015 1        29.6798  33.1515  29.9863  31.5910  28.3646  31.8518  30.3921   \n",
       "     2        30.7324  27.9015  32.7687  29.3931  28.7988  29.4542  30.5205   \n",
       "     3        30.6849  36.8335  29.0620  30.9413  29.8823  27.6963  28.8165   \n",
       "\n",
       "subject                         \n",
       "type               HR     Temp  \n",
       "year session                    \n",
       "2013 1        30.2611  27.4274  \n",
       "     2        27.7863  30.9259  \n",
       "     3        29.8821  30.8675  \n",
       "2014 1        31.2508  30.1317  \n",
       "     2        28.1232  29.9151  \n",
       "     3        30.5070  28.6844  \n",
       "2015 1        29.3723  29.8012  \n",
       "     2        30.4970  27.8455  \n",
       "     3        30.5530  28.6712  "
      ]
     },
     "execution_count": 121,
     "metadata": {},
     "output_type": "execute_result"
    }
   ],
   "source": [
    "pop.unstack().stack()\n",
    "health_data.unstack().stack()"
   ]
  },
  {
   "cell_type": "markdown",
   "metadata": {},
   "source": [
    "### Index setting and resetting\n",
    "\n",
    "Another way to rearrange hierarchical data is to turn the index labels into columns; this can be accomplished with the ``reset_index`` method.\n",
    "Calling this on the population dictionary will result in a ``DataFrame`` with a *state* and *year* column holding the information that was formerly in the index.\n",
    "For clarity, we can optionally specify the name of the data for the column representation:"
   ]
  },
  {
   "cell_type": "code",
   "execution_count": 124,
   "metadata": {},
   "outputs": [
    {
     "data": {
      "text/html": [
       "<div>\n",
       "<style scoped>\n",
       "    .dataframe tbody tr th:only-of-type {\n",
       "        vertical-align: middle;\n",
       "    }\n",
       "\n",
       "    .dataframe tbody tr th {\n",
       "        vertical-align: top;\n",
       "    }\n",
       "\n",
       "    .dataframe thead th {\n",
       "        text-align: right;\n",
       "    }\n",
       "</style>\n",
       "<table border=\"1\" class=\"dataframe\">\n",
       "  <thead>\n",
       "    <tr style=\"text-align: right;\">\n",
       "      <th></th>\n",
       "      <th>state</th>\n",
       "      <th>year</th>\n",
       "      <th>population</th>\n",
       "    </tr>\n",
       "  </thead>\n",
       "  <tbody>\n",
       "    <tr>\n",
       "      <th>0</th>\n",
       "      <td>California</td>\n",
       "      <td>2000</td>\n",
       "      <td>33871648</td>\n",
       "    </tr>\n",
       "    <tr>\n",
       "      <th>1</th>\n",
       "      <td>California</td>\n",
       "      <td>2010</td>\n",
       "      <td>37253956</td>\n",
       "    </tr>\n",
       "    <tr>\n",
       "      <th>2</th>\n",
       "      <td>New York</td>\n",
       "      <td>2000</td>\n",
       "      <td>18976457</td>\n",
       "    </tr>\n",
       "    <tr>\n",
       "      <th>3</th>\n",
       "      <td>New York</td>\n",
       "      <td>2010</td>\n",
       "      <td>19378102</td>\n",
       "    </tr>\n",
       "    <tr>\n",
       "      <th>4</th>\n",
       "      <td>Texas</td>\n",
       "      <td>2000</td>\n",
       "      <td>20851820</td>\n",
       "    </tr>\n",
       "    <tr>\n",
       "      <th>5</th>\n",
       "      <td>Texas</td>\n",
       "      <td>2010</td>\n",
       "      <td>25145561</td>\n",
       "    </tr>\n",
       "  </tbody>\n",
       "</table>\n",
       "</div>"
      ],
      "text/plain": [
       "        state  year  population\n",
       "0  California  2000    33871648\n",
       "1  California  2010    37253956\n",
       "2    New York  2000    18976457\n",
       "3    New York  2010    19378102\n",
       "4       Texas  2000    20851820\n",
       "5       Texas  2010    25145561"
      ]
     },
     "execution_count": 124,
     "metadata": {},
     "output_type": "execute_result"
    }
   ],
   "source": [
    "pop_flat = pop.reset_index(name='population')\n",
    "pop_flat"
   ]
  },
  {
   "cell_type": "markdown",
   "metadata": {},
   "source": [
    "Often when working with data in the real world, the raw input data looks like this and it's useful to build a ``MultiIndex`` from the column values.\n",
    "This can be done with the ``set_index`` method of the ``DataFrame``, which returns a multiply indexed ``DataFrame``:"
   ]
  },
  {
   "cell_type": "code",
   "execution_count": 125,
   "metadata": {},
   "outputs": [
    {
     "data": {
      "text/html": [
       "<div>\n",
       "<style scoped>\n",
       "    .dataframe tbody tr th:only-of-type {\n",
       "        vertical-align: middle;\n",
       "    }\n",
       "\n",
       "    .dataframe tbody tr th {\n",
       "        vertical-align: top;\n",
       "    }\n",
       "\n",
       "    .dataframe thead th {\n",
       "        text-align: right;\n",
       "    }\n",
       "</style>\n",
       "<table border=\"1\" class=\"dataframe\">\n",
       "  <thead>\n",
       "    <tr style=\"text-align: right;\">\n",
       "      <th></th>\n",
       "      <th></th>\n",
       "      <th>population</th>\n",
       "    </tr>\n",
       "    <tr>\n",
       "      <th>state</th>\n",
       "      <th>year</th>\n",
       "      <th></th>\n",
       "    </tr>\n",
       "  </thead>\n",
       "  <tbody>\n",
       "    <tr>\n",
       "      <th rowspan=\"2\" valign=\"top\">California</th>\n",
       "      <th>2000</th>\n",
       "      <td>33871648</td>\n",
       "    </tr>\n",
       "    <tr>\n",
       "      <th>2010</th>\n",
       "      <td>37253956</td>\n",
       "    </tr>\n",
       "    <tr>\n",
       "      <th rowspan=\"2\" valign=\"top\">New York</th>\n",
       "      <th>2000</th>\n",
       "      <td>18976457</td>\n",
       "    </tr>\n",
       "    <tr>\n",
       "      <th>2010</th>\n",
       "      <td>19378102</td>\n",
       "    </tr>\n",
       "    <tr>\n",
       "      <th rowspan=\"2\" valign=\"top\">Texas</th>\n",
       "      <th>2000</th>\n",
       "      <td>20851820</td>\n",
       "    </tr>\n",
       "    <tr>\n",
       "      <th>2010</th>\n",
       "      <td>25145561</td>\n",
       "    </tr>\n",
       "  </tbody>\n",
       "</table>\n",
       "</div>"
      ],
      "text/plain": [
       "                 population\n",
       "state      year            \n",
       "California 2000    33871648\n",
       "           2010    37253956\n",
       "New York   2000    18976457\n",
       "           2010    19378102\n",
       "Texas      2000    20851820\n",
       "           2010    25145561"
      ]
     },
     "execution_count": 125,
     "metadata": {},
     "output_type": "execute_result"
    }
   ],
   "source": [
    "pop_flat.set_index(['state', 'year'])"
   ]
  },
  {
   "cell_type": "markdown",
   "metadata": {},
   "source": [
    "In practice, I find this type of reindexing to be one of the more useful patterns when encountering real-world datasets."
   ]
  },
  {
   "cell_type": "markdown",
   "metadata": {},
   "source": [
    "## Data Aggregations on Multi-Indices\n",
    "\n",
    "We've previously seen that Pandas has built-in data aggregation methods, such as ``mean()``, ``sum()``, and ``max()``.\n",
    "For hierarchically indexed data, these can be passed a ``level`` parameter that controls which subset of the data the aggregate is computed on.\n",
    "\n",
    "For example, let's return to our health data:"
   ]
  },
  {
   "cell_type": "code",
   "execution_count": 126,
   "metadata": {},
   "outputs": [
    {
     "data": {
      "text/html": [
       "<div>\n",
       "<style scoped>\n",
       "    .dataframe tbody tr th:only-of-type {\n",
       "        vertical-align: middle;\n",
       "    }\n",
       "\n",
       "    .dataframe tbody tr th {\n",
       "        vertical-align: top;\n",
       "    }\n",
       "\n",
       "    .dataframe thead tr th {\n",
       "        text-align: left;\n",
       "    }\n",
       "\n",
       "    .dataframe thead tr:last-of-type th {\n",
       "        text-align: right;\n",
       "    }\n",
       "</style>\n",
       "<table border=\"1\" class=\"dataframe\">\n",
       "  <thead>\n",
       "    <tr>\n",
       "      <th></th>\n",
       "      <th>subject</th>\n",
       "      <th colspan=\"3\" halign=\"left\">Bob</th>\n",
       "      <th colspan=\"3\" halign=\"left\">Guido</th>\n",
       "      <th colspan=\"3\" halign=\"left\">Sue</th>\n",
       "    </tr>\n",
       "    <tr>\n",
       "      <th></th>\n",
       "      <th>type</th>\n",
       "      <th>HR</th>\n",
       "      <th>Temp</th>\n",
       "      <th>Admin</th>\n",
       "      <th>HR</th>\n",
       "      <th>Temp</th>\n",
       "      <th>Admin</th>\n",
       "      <th>HR</th>\n",
       "      <th>Temp</th>\n",
       "      <th>Admin</th>\n",
       "    </tr>\n",
       "    <tr>\n",
       "      <th>year</th>\n",
       "      <th>session</th>\n",
       "      <th></th>\n",
       "      <th></th>\n",
       "      <th></th>\n",
       "      <th></th>\n",
       "      <th></th>\n",
       "      <th></th>\n",
       "      <th></th>\n",
       "      <th></th>\n",
       "      <th></th>\n",
       "    </tr>\n",
       "  </thead>\n",
       "  <tbody>\n",
       "    <tr>\n",
       "      <th rowspan=\"3\" valign=\"top\">2013</th>\n",
       "      <th>1</th>\n",
       "      <td>36.8280</td>\n",
       "      <td>30.4323</td>\n",
       "      <td>30.2209</td>\n",
       "      <td>29.4441</td>\n",
       "      <td>29.7067</td>\n",
       "      <td>30.2776</td>\n",
       "      <td>30.2611</td>\n",
       "      <td>27.4274</td>\n",
       "      <td>30.3896</td>\n",
       "    </tr>\n",
       "    <tr>\n",
       "      <th>2</th>\n",
       "      <td>26.5965</td>\n",
       "      <td>29.9151</td>\n",
       "      <td>31.8368</td>\n",
       "      <td>31.8484</td>\n",
       "      <td>29.3796</td>\n",
       "      <td>29.0087</td>\n",
       "      <td>27.7863</td>\n",
       "      <td>30.9259</td>\n",
       "      <td>30.1265</td>\n",
       "    </tr>\n",
       "    <tr>\n",
       "      <th>3</th>\n",
       "      <td>39.4260</td>\n",
       "      <td>31.2263</td>\n",
       "      <td>29.1585</td>\n",
       "      <td>29.4538</td>\n",
       "      <td>28.6172</td>\n",
       "      <td>28.9508</td>\n",
       "      <td>29.8821</td>\n",
       "      <td>30.8675</td>\n",
       "      <td>30.7979</td>\n",
       "    </tr>\n",
       "    <tr>\n",
       "      <th rowspan=\"3\" valign=\"top\">2014</th>\n",
       "      <th>1</th>\n",
       "      <td>32.1890</td>\n",
       "      <td>31.4605</td>\n",
       "      <td>30.1290</td>\n",
       "      <td>29.0034</td>\n",
       "      <td>28.7336</td>\n",
       "      <td>29.2168</td>\n",
       "      <td>31.2508</td>\n",
       "      <td>30.1317</td>\n",
       "      <td>29.0871</td>\n",
       "    </tr>\n",
       "    <tr>\n",
       "      <th>2</th>\n",
       "      <td>25.3240</td>\n",
       "      <td>29.3204</td>\n",
       "      <td>28.2928</td>\n",
       "      <td>30.0438</td>\n",
       "      <td>30.4477</td>\n",
       "      <td>30.9551</td>\n",
       "      <td>28.1232</td>\n",
       "      <td>29.9151</td>\n",
       "      <td>29.2973</td>\n",
       "    </tr>\n",
       "    <tr>\n",
       "      <th>3</th>\n",
       "      <td>32.2860</td>\n",
       "      <td>30.1546</td>\n",
       "      <td>28.6942</td>\n",
       "      <td>29.9960</td>\n",
       "      <td>29.6327</td>\n",
       "      <td>29.0865</td>\n",
       "      <td>30.5070</td>\n",
       "      <td>28.6844</td>\n",
       "      <td>29.6195</td>\n",
       "    </tr>\n",
       "    <tr>\n",
       "      <th rowspan=\"3\" valign=\"top\">2015</th>\n",
       "      <th>1</th>\n",
       "      <td>33.1515</td>\n",
       "      <td>29.9863</td>\n",
       "      <td>29.6798</td>\n",
       "      <td>28.3646</td>\n",
       "      <td>31.8518</td>\n",
       "      <td>31.5910</td>\n",
       "      <td>29.3723</td>\n",
       "      <td>29.8012</td>\n",
       "      <td>30.3921</td>\n",
       "    </tr>\n",
       "    <tr>\n",
       "      <th>2</th>\n",
       "      <td>27.9015</td>\n",
       "      <td>32.7687</td>\n",
       "      <td>30.7324</td>\n",
       "      <td>28.7988</td>\n",
       "      <td>29.4542</td>\n",
       "      <td>29.3931</td>\n",
       "      <td>30.4970</td>\n",
       "      <td>27.8455</td>\n",
       "      <td>30.5205</td>\n",
       "    </tr>\n",
       "    <tr>\n",
       "      <th>3</th>\n",
       "      <td>36.8335</td>\n",
       "      <td>29.0620</td>\n",
       "      <td>30.6849</td>\n",
       "      <td>29.8823</td>\n",
       "      <td>27.6963</td>\n",
       "      <td>30.9413</td>\n",
       "      <td>30.5530</td>\n",
       "      <td>28.6712</td>\n",
       "      <td>28.8165</td>\n",
       "    </tr>\n",
       "  </tbody>\n",
       "</table>\n",
       "</div>"
      ],
      "text/plain": [
       "subject           Bob                      Guido                        Sue  \\\n",
       "type               HR     Temp    Admin       HR     Temp    Admin       HR   \n",
       "year session                                                                  \n",
       "2013 1        36.8280  30.4323  30.2209  29.4441  29.7067  30.2776  30.2611   \n",
       "     2        26.5965  29.9151  31.8368  31.8484  29.3796  29.0087  27.7863   \n",
       "     3        39.4260  31.2263  29.1585  29.4538  28.6172  28.9508  29.8821   \n",
       "2014 1        32.1890  31.4605  30.1290  29.0034  28.7336  29.2168  31.2508   \n",
       "     2        25.3240  29.3204  28.2928  30.0438  30.4477  30.9551  28.1232   \n",
       "     3        32.2860  30.1546  28.6942  29.9960  29.6327  29.0865  30.5070   \n",
       "2015 1        33.1515  29.9863  29.6798  28.3646  31.8518  31.5910  29.3723   \n",
       "     2        27.9015  32.7687  30.7324  28.7988  29.4542  29.3931  30.4970   \n",
       "     3        36.8335  29.0620  30.6849  29.8823  27.6963  30.9413  30.5530   \n",
       "\n",
       "subject                         \n",
       "type             Temp    Admin  \n",
       "year session                    \n",
       "2013 1        27.4274  30.3896  \n",
       "     2        30.9259  30.1265  \n",
       "     3        30.8675  30.7979  \n",
       "2014 1        30.1317  29.0871  \n",
       "     2        29.9151  29.2973  \n",
       "     3        28.6844  29.6195  \n",
       "2015 1        29.8012  30.3921  \n",
       "     2        27.8455  30.5205  \n",
       "     3        28.6712  28.8165  "
      ]
     },
     "execution_count": 126,
     "metadata": {},
     "output_type": "execute_result"
    }
   ],
   "source": [
    "health_data"
   ]
  },
  {
   "cell_type": "markdown",
   "metadata": {},
   "source": [
    "Perhaps we'd like to average-out the measurements in the two visits each year. We can do this by naming the index level we'd like to explore, in this case the year:"
   ]
  },
  {
   "cell_type": "code",
   "execution_count": 130,
   "metadata": {},
   "outputs": [
    {
     "data": {
      "text/html": [
       "<div>\n",
       "<style scoped>\n",
       "    .dataframe tbody tr th:only-of-type {\n",
       "        vertical-align: middle;\n",
       "    }\n",
       "\n",
       "    .dataframe tbody tr th {\n",
       "        vertical-align: top;\n",
       "    }\n",
       "\n",
       "    .dataframe thead tr th {\n",
       "        text-align: left;\n",
       "    }\n",
       "\n",
       "    .dataframe thead tr:last-of-type th {\n",
       "        text-align: right;\n",
       "    }\n",
       "</style>\n",
       "<table border=\"1\" class=\"dataframe\">\n",
       "  <thead>\n",
       "    <tr>\n",
       "      <th>subject</th>\n",
       "      <th colspan=\"3\" halign=\"left\">Bob</th>\n",
       "      <th colspan=\"3\" halign=\"left\">Guido</th>\n",
       "      <th colspan=\"3\" halign=\"left\">Sue</th>\n",
       "    </tr>\n",
       "    <tr>\n",
       "      <th>type</th>\n",
       "      <th>HR</th>\n",
       "      <th>Temp</th>\n",
       "      <th>Admin</th>\n",
       "      <th>HR</th>\n",
       "      <th>Temp</th>\n",
       "      <th>Admin</th>\n",
       "      <th>HR</th>\n",
       "      <th>Temp</th>\n",
       "      <th>Admin</th>\n",
       "    </tr>\n",
       "    <tr>\n",
       "      <th>year</th>\n",
       "      <th></th>\n",
       "      <th></th>\n",
       "      <th></th>\n",
       "      <th></th>\n",
       "      <th></th>\n",
       "      <th></th>\n",
       "      <th></th>\n",
       "      <th></th>\n",
       "      <th></th>\n",
       "    </tr>\n",
       "  </thead>\n",
       "  <tbody>\n",
       "    <tr>\n",
       "      <th>2013</th>\n",
       "      <td>34.283500</td>\n",
       "      <td>30.524567</td>\n",
       "      <td>30.405400</td>\n",
       "      <td>30.248767</td>\n",
       "      <td>29.234500</td>\n",
       "      <td>29.412367</td>\n",
       "      <td>29.309833</td>\n",
       "      <td>29.740267</td>\n",
       "      <td>30.438000</td>\n",
       "    </tr>\n",
       "    <tr>\n",
       "      <th>2014</th>\n",
       "      <td>29.933000</td>\n",
       "      <td>30.311833</td>\n",
       "      <td>29.038667</td>\n",
       "      <td>29.681067</td>\n",
       "      <td>29.604667</td>\n",
       "      <td>29.752800</td>\n",
       "      <td>29.960333</td>\n",
       "      <td>29.577067</td>\n",
       "      <td>29.334633</td>\n",
       "    </tr>\n",
       "    <tr>\n",
       "      <th>2015</th>\n",
       "      <td>32.628833</td>\n",
       "      <td>30.605667</td>\n",
       "      <td>30.365700</td>\n",
       "      <td>29.015233</td>\n",
       "      <td>29.667433</td>\n",
       "      <td>30.641800</td>\n",
       "      <td>30.140767</td>\n",
       "      <td>28.772633</td>\n",
       "      <td>29.909700</td>\n",
       "    </tr>\n",
       "  </tbody>\n",
       "</table>\n",
       "</div>"
      ],
      "text/plain": [
       "subject        Bob                            Guido                        \\\n",
       "type            HR       Temp      Admin         HR       Temp      Admin   \n",
       "year                                                                        \n",
       "2013     34.283500  30.524567  30.405400  30.248767  29.234500  29.412367   \n",
       "2014     29.933000  30.311833  29.038667  29.681067  29.604667  29.752800   \n",
       "2015     32.628833  30.605667  30.365700  29.015233  29.667433  30.641800   \n",
       "\n",
       "subject        Sue                        \n",
       "type            HR       Temp      Admin  \n",
       "year                                      \n",
       "2013     29.309833  29.740267  30.438000  \n",
       "2014     29.960333  29.577067  29.334633  \n",
       "2015     30.140767  28.772633  29.909700  "
      ]
     },
     "execution_count": 130,
     "metadata": {},
     "output_type": "execute_result"
    }
   ],
   "source": [
    "data_mean = health_data.mean(level='year')\n",
    "data_mean"
   ]
  },
  {
   "cell_type": "markdown",
   "metadata": {},
   "source": [
    "By further making use of the ``axis`` keyword, we can take the mean among levels on the columns as well:"
   ]
  },
  {
   "cell_type": "code",
   "execution_count": 131,
   "metadata": {},
   "outputs": [
    {
     "data": {
      "text/html": [
       "<div>\n",
       "<style scoped>\n",
       "    .dataframe tbody tr th:only-of-type {\n",
       "        vertical-align: middle;\n",
       "    }\n",
       "\n",
       "    .dataframe tbody tr th {\n",
       "        vertical-align: top;\n",
       "    }\n",
       "\n",
       "    .dataframe thead th {\n",
       "        text-align: right;\n",
       "    }\n",
       "</style>\n",
       "<table border=\"1\" class=\"dataframe\">\n",
       "  <thead>\n",
       "    <tr style=\"text-align: right;\">\n",
       "      <th>type</th>\n",
       "      <th>HR</th>\n",
       "      <th>Temp</th>\n",
       "      <th>Admin</th>\n",
       "    </tr>\n",
       "    <tr>\n",
       "      <th>year</th>\n",
       "      <th></th>\n",
       "      <th></th>\n",
       "      <th></th>\n",
       "    </tr>\n",
       "  </thead>\n",
       "  <tbody>\n",
       "    <tr>\n",
       "      <th>2013</th>\n",
       "      <td>31.280700</td>\n",
       "      <td>29.833111</td>\n",
       "      <td>30.085256</td>\n",
       "    </tr>\n",
       "    <tr>\n",
       "      <th>2014</th>\n",
       "      <td>29.858133</td>\n",
       "      <td>29.831189</td>\n",
       "      <td>29.375367</td>\n",
       "    </tr>\n",
       "    <tr>\n",
       "      <th>2015</th>\n",
       "      <td>30.594944</td>\n",
       "      <td>29.681911</td>\n",
       "      <td>30.305733</td>\n",
       "    </tr>\n",
       "  </tbody>\n",
       "</table>\n",
       "</div>"
      ],
      "text/plain": [
       "type         HR       Temp      Admin\n",
       "year                                 \n",
       "2013  31.280700  29.833111  30.085256\n",
       "2014  29.858133  29.831189  29.375367\n",
       "2015  30.594944  29.681911  30.305733"
      ]
     },
     "execution_count": 131,
     "metadata": {},
     "output_type": "execute_result"
    }
   ],
   "source": [
    "data_mean.mean(axis=1, level='type')"
   ]
  },
  {
   "cell_type": "markdown",
   "metadata": {},
   "source": [
    "Thus in two lines, we've been able to find the average heart rate and temperature measured among all subjects in all visits each year.\n",
    "This syntax is actually a short cut to the ``GroupBy`` functionality, which we will discuss in [Aggregation and Grouping](03.08-Aggregation-and-Grouping.ipynb).\n",
    "While this is a toy example, many real-world datasets have similar hierarchical structure."
   ]
  },
  {
   "cell_type": "markdown",
   "metadata": {},
   "source": [
    "## Aside: Panel Data\n",
    "\n",
    "Pandas has a few other fundamental data structures that we have not yet discussed, namely the ``pd.Panel`` and ``pd.Panel4D`` objects.\n",
    "These can be thought of, respectively, as three-dimensional and four-dimensional generalizations of the (one-dimensional) ``Series`` and (two-dimensional) ``DataFrame`` structures.\n",
    "Once you are familiar with indexing and manipulation of data in a ``Series`` and ``DataFrame``, ``Panel`` and ``Panel4D`` are relatively straightforward to use.\n",
    "In particular, the ``ix``, ``loc``, and ``iloc`` indexers discussed in [Data Indexing and Selection](03.02-Data-Indexing-and-Selection.ipynb) extend readily to these higher-dimensional structures.\n",
    "\n",
    "We won't cover these panel structures further in this text, as I've found in the majority of cases that multi-indexing is a more useful and conceptually simpler representation for higher-dimensional data.\n",
    "Additionally, panel data is fundamentally a dense data representation, while multi-indexing is fundamentally a sparse data representation.\n",
    "As the number of dimensions increases, the dense representation can become very inefficient for the majority of real-world datasets.\n",
    "For the occasional specialized application, however, these structures can be useful.\n",
    "If you'd like to read more about the ``Panel`` and ``Panel4D`` structures, see the references listed in [Further Resources](03.13-Further-Resources.ipynb)."
   ]
  },
  {
   "cell_type": "markdown",
   "metadata": {},
   "source": [
    "<!--NAVIGATION-->\n",
    "< [Handling Missing Data](03.04-Missing-Values.ipynb) | [Contents](Index.ipynb) | [Combining Datasets: Concat and Append](03.06-Concat-And-Append.ipynb) >"
   ]
  }
 ],
 "metadata": {
  "anaconda-cloud": {},
  "kernelspec": {
   "display_name": "Python 3",
   "language": "python",
   "name": "python3"
  },
  "language_info": {
   "codemirror_mode": {
    "name": "ipython",
    "version": 3
   },
   "file_extension": ".py",
   "mimetype": "text/x-python",
   "name": "python",
   "nbconvert_exporter": "python",
   "pygments_lexer": "ipython3",
   "version": "3.8.5"
  }
 },
 "nbformat": 4,
 "nbformat_minor": 1
}
